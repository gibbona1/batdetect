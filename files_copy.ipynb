{
 "cells": [
  {
   "cell_type": "code",
   "execution_count": 1,
   "id": "1a87c820",
   "metadata": {},
   "outputs": [],
   "source": [
    "import os\n",
    "import numpy as np\n",
    "import matplotlib.pyplot as plt\n",
    "import seaborn as sns"
   ]
  },
  {
   "cell_type": "code",
   "execution_count": 18,
   "id": "3856508b",
   "metadata": {},
   "outputs": [
    {
     "name": "stdout",
     "output_type": "stream",
     "text": [
      "test set: norfolk\n"
     ]
    }
   ],
   "source": [
    "test_set      = 'norfolk'  # can be one of: bulgaria, uk, norfolk\n",
    "data_set      = 'bat_train/data/train_test_split/test_set_' + test_set + '.npz'\n",
    "raw_audio_dir = 'bat_train/data/wav/'\n",
    "base_line_dir = 'bat_train/data/baselines/'\n",
    "result_dir    = 'bat_train/results/'\n",
    "model_dir     = 'bat_train/data/models/'\n",
    "lab_data_dir  = 'bat_train/data/labelled_data/'+test_set+'/'\n",
    "if not os.path.isdir(result_dir):\n",
    "    os.mkdir(result_dir)\n",
    "if not os.path.isdir(model_dir):\n",
    "    os.mkdir(model_dir)\n",
    "if not os.path.isdir(lab_data_dir):\n",
    "    os.mkdir(lab_data_dir)\n",
    "print('test set:', test_set)\n",
    "plt.close('all')"
   ]
  },
  {
   "cell_type": "code",
   "execution_count": 19,
   "id": "76c23b6c",
   "metadata": {},
   "outputs": [],
   "source": [
    "# train and test_pos are in units of seconds\n",
    "loaded_data_tr  = np.load(data_set, allow_pickle = True, encoding = 'latin1')\n",
    "train_pos       = loaded_data_tr['train_pos']\n",
    "train_files     = loaded_data_tr['train_files']\n",
    "train_durations = loaded_data_tr['train_durations']\n",
    "test_pos        = loaded_data_tr['test_pos']\n",
    "test_files      = loaded_data_tr['test_files']\n",
    "test_durations  = loaded_data_tr['test_durations']"
   ]
  },
  {
   "cell_type": "code",
   "execution_count": 20,
   "id": "a6405d62",
   "metadata": {},
   "outputs": [],
   "source": [
    "train_files_decode = [s.decode()+'.wav' for s in train_files]\n",
    "test_files_decode  = [s.decode()+'.wav' for s in test_files]"
   ]
  },
  {
   "cell_type": "code",
   "execution_count": 21,
   "id": "df4ec899",
   "metadata": {},
   "outputs": [],
   "source": [
    "if not os.path.isdir(lab_data_dir+'train/'):\n",
    "    os.mkdir(lab_data_dir+'train/')\n",
    "if not os.path.isdir(lab_data_dir+'test/'):\n",
    "    os.mkdir(lab_data_dir+'test/')"
   ]
  },
  {
   "cell_type": "code",
   "execution_count": 22,
   "id": "1524723b",
   "metadata": {},
   "outputs": [],
   "source": [
    "import shutil"
   ]
  },
  {
   "cell_type": "code",
   "execution_count": 23,
   "id": "2da67bd8",
   "metadata": {},
   "outputs": [],
   "source": [
    "for train_f in train_files_decode:\n",
    "    shutil.copy(raw_audio_dir+train_f, lab_data_dir+'train/'+train_f)"
   ]
  },
  {
   "cell_type": "code",
   "execution_count": 24,
   "id": "436d1ac0",
   "metadata": {},
   "outputs": [],
   "source": [
    "for test_f in test_files_decode:\n",
    "    shutil.copy(raw_audio_dir+test_f, lab_data_dir+'test/'+test_f)"
   ]
  }
 ],
 "metadata": {
  "kernelspec": {
   "display_name": "Python 3",
   "language": "python",
   "name": "python3"
  },
  "language_info": {
   "codemirror_mode": {
    "name": "ipython",
    "version": 3
   },
   "file_extension": ".py",
   "mimetype": "text/x-python",
   "name": "python",
   "nbconvert_exporter": "python",
   "pygments_lexer": "ipython3",
   "version": "3.8.8"
  }
 },
 "nbformat": 4,
 "nbformat_minor": 5
}
