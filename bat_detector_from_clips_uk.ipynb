{
 "cells": [
  {
   "cell_type": "code",
   "execution_count": 1,
   "id": "37b25483",
   "metadata": {},
   "outputs": [],
   "source": [
    "import os\n",
    "import numpy as np\n",
    "import joblib\n",
    "\n",
    "import matplotlib.pyplot as plt\n",
    "import seaborn as sns\n",
    "import plotly.graph_objs as go\n",
    "\n",
    "import pickle\n",
    "import tensorflow as tf\n",
    "from tensorflow.keras import layers, models, regularizers\n",
    "\n",
    "from sklearn.ensemble import RandomForestClassifier\n",
    "from sklearn.metrics import roc_curve, roc_auc_score, confusion_matrix\n",
    "import scipy.ndimage.morphology as morph\n",
    "from scipy.ndimage.filters import median_filter\n",
    "import scipy.ndimage\n",
    "from skimage.measure import regionprops\n",
    "import pandas as pd\n",
    "\n",
    "#import bat_train.evaluate as evl\n",
    "from scipy.io import wavfile\n",
    "#from helper_fns import *"
   ]
  },
  {
   "cell_type": "code",
   "execution_count": 2,
   "id": "31159c7a",
   "metadata": {},
   "outputs": [
    {
     "name": "stdout",
     "output_type": "stream",
     "text": [
      "test set: uk\n"
     ]
    }
   ],
   "source": [
    "test_set      = 'uk'  # can be one of: bulgaria, uk, norfolk\n",
    "data_set      = 'bat_train/data/train_test_split/test_set_' + test_set + '.npz'\n",
    "raw_audio_dir = 'bat_train/data/wav/'\n",
    "clip_audio_dir= 'bat_train/data/wav_clips/'\n",
    "base_line_dir = 'bat_train/data/baselines/'\n",
    "result_dir    = 'bat_train/results/'\n",
    "model_dir     = 'bat_train/data/models/'\n",
    "if not os.path.isdir(result_dir):\n",
    "    os.mkdir(result_dir)\n",
    "if not os.path.isdir(model_dir):\n",
    "    os.mkdir(model_dir)\n",
    "print('test set:', test_set)\n",
    "plt.close('all')"
   ]
  },
  {
   "cell_type": "code",
   "execution_count": 3,
   "id": "ecdbafe2",
   "metadata": {},
   "outputs": [],
   "source": [
    "classes = ['not_bat', 'bat']"
   ]
  },
  {
   "cell_type": "code",
   "execution_count": 4,
   "id": "0e442cbe",
   "metadata": {},
   "outputs": [],
   "source": [
    "#os.listdir(clip_audio_dir+test_set)\n",
    "non_bat_dir = clip_audio_dir+test_set+'/'+classes[0]+'/'\n",
    "bat_dir     = clip_audio_dir+test_set+'/'+classes[1]+'/'"
   ]
  },
  {
   "cell_type": "code",
   "execution_count": 5,
   "id": "a5642bac",
   "metadata": {},
   "outputs": [],
   "source": [
    "bat_paths     = [bat_dir + fn for fn in os.listdir(bat_dir)]\n",
    "non_bat_paths = [non_bat_dir + fn for fn in os.listdir(non_bat_dir)]"
   ]
  },
  {
   "cell_type": "code",
   "execution_count": 6,
   "id": "321a63a2",
   "metadata": {},
   "outputs": [],
   "source": [
    "from random import shuffle"
   ]
  },
  {
   "cell_type": "code",
   "execution_count": 7,
   "id": "aaa400db",
   "metadata": {},
   "outputs": [],
   "source": [
    "shuffle(bat_paths)\n",
    "shuffle(non_bat_paths)"
   ]
  },
  {
   "cell_type": "code",
   "execution_count": 8,
   "id": "af384943",
   "metadata": {},
   "outputs": [],
   "source": [
    "train_perc = 0.8\n",
    "bat_cutoff = int(train_perc*len(bat_paths))\n",
    "non_bat_cutoff = int(train_perc*len(non_bat_paths))"
   ]
  },
  {
   "cell_type": "code",
   "execution_count": 9,
   "id": "a6b828b6",
   "metadata": {},
   "outputs": [],
   "source": [
    "train_paths = bat_paths[:bat_cutoff]\n",
    "train_paths.extend(non_bat_paths[:non_bat_cutoff])\n",
    "test_paths = bat_paths[bat_cutoff:]\n",
    "test_paths.extend(non_bat_paths[non_bat_cutoff:])"
   ]
  },
  {
   "cell_type": "code",
   "execution_count": 10,
   "id": "6404e70a",
   "metadata": {},
   "outputs": [],
   "source": [
    "shuffle(train_paths)\n",
    "shuffle(test_paths)"
   ]
  },
  {
   "cell_type": "code",
   "execution_count": 11,
   "id": "a1eda3c3",
   "metadata": {},
   "outputs": [],
   "source": [
    "#TODO: define functions that get the different channels, e.g. regular spectrogram, real, im, arg, harmonics"
   ]
  },
  {
   "cell_type": "code",
   "execution_count": 12,
   "id": "dcbd6abf",
   "metadata": {},
   "outputs": [],
   "source": [
    "from bat_train.data_set_params import DataSetParams"
   ]
  },
  {
   "cell_type": "code",
   "execution_count": 13,
   "id": "4b23ead8",
   "metadata": {},
   "outputs": [],
   "source": [
    "params = DataSetParams()"
   ]
  },
  {
   "cell_type": "code",
   "execution_count": 14,
   "id": "3972e925",
   "metadata": {},
   "outputs": [],
   "source": [
    "def gen_complex_spec(audio_samp, samp_rate, params):\n",
    "    nfft     = int(params.fft_win_length*samp_rate)\n",
    "    noverlap = int(params.fft_overlap*nfft)\n",
    "\n",
    "    # window data\n",
    "    step    = nfft - noverlap\n",
    "    #print(step)\n",
    "    shape   = (nfft, (audio_samp.shape[-1]-noverlap)//step)\n",
    "    strides = (audio_samp.strides[0], step*audio_samp.strides[0])\n",
    "    x_wins  = np.lib.stride_tricks.as_strided(audio_samp, shape=shape, strides=strides)\n",
    "    x_wins_han = np.hanning(x_wins.shape[0])[..., np.newaxis] * x_wins\n",
    "    \n",
    "    # do fft\n",
    "    # note this will be much slower if x_wins_han.shape[0] is not a power of 2\n",
    "    complex_spec = np.fft.rfft(x_wins_han, axis=0)\n",
    "    return complex_spec"
   ]
  },
  {
   "cell_type": "code",
   "execution_count": 15,
   "id": "ea2aea74",
   "metadata": {},
   "outputs": [],
   "source": [
    "def multi_spec_stack(complex_spec, choices = ['Mod']):\n",
    "    #possible components:\n",
    "    ##Mod    modulus/absolute value (regular)\n",
    "    ##Re     real component\n",
    "    ##AbsRe  abs(real component)\n",
    "    ##Im     imaginary component\n",
    "    ##AbsIm  abs(imaginary component)\n",
    "    ##Ang    angular componant\n",
    "    ##AbsAng abs(angular componant)\n",
    "    spec_arr = []\n",
    "    for c in choices:\n",
    "        def apply_func(x,c):\n",
    "            if c == 'Mod':\n",
    "                return tf.math.abs(x)\n",
    "            if c == 'Re':\n",
    "                return tf.math.real(x)\n",
    "            if c == 'AbsRe':\n",
    "                return tf.math.abs(tf.math.real(x))\n",
    "            if c == 'Im':\n",
    "                return tf.math.imag(x)\n",
    "            if c == 'AbsIm':\n",
    "                return tf.math.abs(tf.math.imag(x))\n",
    "            if c == 'Ang':\n",
    "                return tf.math.ang(x)\n",
    "            if c == 'AbsAng':\n",
    "                return tf.math.abs(tf.math.imag(x))\n",
    "        spec_arr.append(apply_func(complex_spec,c))\n",
    "    return np.stack(spec_arr,-1)"
   ]
  },
  {
   "cell_type": "code",
   "execution_count": 16,
   "id": "9358dae5",
   "metadata": {},
   "outputs": [],
   "source": [
    "def multi_spec_post(spec, samp_rate):\n",
    "    spec = spec[1:, :, :]\n",
    "    spec = np.flipud(spec)\n",
    "    # only keep the relevant bands - could do this outside\n",
    "    if params.crop_spec:\n",
    "        spec = spec[-params.max_freq:-params.min_freq, :, :]\n",
    "    \n",
    "        # add some zeros if too small\n",
    "        req_height = params.max_freq-params.min_freq\n",
    "        if spec.shape[0] < req_height:\n",
    "            zero_pad = np.zeros((req_height-spec.shape[0], spec.shape[1], spec.shape[2]))\n",
    "            spec     = np.vstack((zero_pad, spec))\n",
    "\n",
    "    # perform log scaling - here the same as matplotlib\n",
    "    log_scaling = 2.0 * (1.0 / samp_rate) * (1.0/(np.abs(np.hanning(int(params.fft_win_length*samp_rate)))**2).sum())\n",
    "    spec        = np.log(1.0 + log_scaling*spec)\n",
    "    def spec_normalize(x, axis = (0,1), kd = True):\n",
    "        return (x- x.min(axis=axis, keepdims=kd))/(x.max(axis=axis, keepdims=kd) - x.min(axis=axis, keepdims=kd))\n",
    "    spec = spec_normalize(spec)\n",
    "    return spec"
   ]
  },
  {
   "cell_type": "code",
   "execution_count": 17,
   "id": "d31f4bdb",
   "metadata": {},
   "outputs": [],
   "source": [
    "spec_shape = (260, 36, 1)"
   ]
  },
  {
   "cell_type": "code",
   "execution_count": 18,
   "id": "602c1457",
   "metadata": {},
   "outputs": [],
   "source": [
    "def get_multichannel_features(paths, params, choices = ['Mod']):\n",
    "    feats = []\n",
    "    labels = []\n",
    "    count = 0\n",
    "    ndiv = len(paths) // 10\n",
    "    spec_shape = (260, 36, len(choices))\n",
    "    for file_name in paths:\n",
    "        #print(file_name)\n",
    "        if count % ndiv == 0:\n",
    "            print(count+1, '/', len(paths))\n",
    "        count = count + 1\n",
    "        samp_rate, audio_samp = wavfile.read(file_name)\n",
    "        #print('samp_rate:',samp_rate)\n",
    "        #print('len(audio_samp):', len(audio_samp))\n",
    "        if len(audio_samp)/samp_rate < 0.1:\n",
    "            #os.remove(file_name)\n",
    "            continue \n",
    "        labels.append(file_name.split('/')[-2])\n",
    "        complex_spec = gen_complex_spec(audio_samp, samp_rate, params)\n",
    "        multi_spec = multi_spec_stack(complex_spec, choices)\n",
    "        multi_spec = multi_spec_post(multi_spec, samp_rate)\n",
    "        if multi_spec.shape[1] < spec_shape[1]:\n",
    "            #print('1',multi_spec.shape)\n",
    "            zero_pad = np.zeros((spec_shape[0], spec_shape[1] - multi_spec.shape[1], spec_shape[2]))\n",
    "            multi_spec = np.hstack((multi_spec, zero_pad))\n",
    "            #print('2',multi_spec.shape)\n",
    "        feats.append(multi_spec)\n",
    "    #print([fts.shape for fts in feats])\n",
    "    features = np.stack(feats, axis=0)\n",
    "    #features = np.squeeze(features)\n",
    "    return features, labels"
   ]
  },
  {
   "cell_type": "code",
   "execution_count": 19,
   "id": "aa057830",
   "metadata": {},
   "outputs": [
    {
     "name": "stdout",
     "output_type": "stream",
     "text": [
      "1 / 26973\n",
      "2698 / 26973\n",
      "5395 / 26973\n",
      "8092 / 26973\n",
      "10789 / 26973\n",
      "13486 / 26973\n",
      "16183 / 26973\n",
      "18880 / 26973\n",
      "21577 / 26973\n",
      "24274 / 26973\n",
      "26971 / 26973\n",
      "1 / 6745\n",
      "675 / 6745\n",
      "1349 / 6745\n",
      "2023 / 6745\n",
      "2697 / 6745\n",
      "3371 / 6745\n",
      "4045 / 6745\n",
      "4719 / 6745\n",
      "5393 / 6745\n",
      "6067 / 6745\n",
      "6741 / 6745\n"
     ]
    }
   ],
   "source": [
    "train_features, train_labels = get_multichannel_features(train_paths, params)\n",
    "test_features,  test_labels  = get_multichannel_features(test_paths, params)"
   ]
  },
  {
   "cell_type": "code",
   "execution_count": 20,
   "id": "b1703b1d",
   "metadata": {},
   "outputs": [
    {
     "data": {
      "image/png": "[encoded data removed]",
      "text/plain": [
       "<Figure size 1296x360 with 2 Axes>"
      ]
     },
     "metadata": {
      "needs_background": "light"
     },
     "output_type": "display_data"
    }
   ],
   "source": [
    "f, axes = plt.subplots(1, 2, figsize = (18,5))\n",
    "sns.set_style('darkgrid')\n",
    "sns.countplot(x = train_labels, ax=axes[0])\n",
    "lb = axes[0].get_xlabel()\n",
    "axes[0].set_xlabel(lb, fontsize=15)\n",
    "axes[0].set_title(\"Train\", size = 14)\n",
    "\n",
    "sns.set_style('darkgrid')\n",
    "sns.countplot(x = test_labels, ax=axes[1])\n",
    "lbt = axes[1].get_xlabel()\n",
    "axes[1].set_xlabel(lbt, fontsize=15)\n",
    "axes[1].set_title(\"Test\", size = 14)\n",
    "plt.suptitle(test_set.capitalize())\n",
    "\n",
    "for ax in axes:\n",
    "    for p in ax.patches:\n",
    "        #ax.annotate('{}'.format(p.get_height()), \n",
    "        #            ((p.get_x() + p.get_width() / 2., p.get_height()), ha = 'center', va = 'center',))\n",
    "        ax.annotate(format(p.get_height(), '.1f'), \n",
    "                   (p.get_x() + p.get_width() / 2., p.get_height()), \n",
    "                   ha = 'center')"
   ]
  },
  {
   "cell_type": "code",
   "execution_count": 21,
   "id": "1c810c1e",
   "metadata": {},
   "outputs": [],
   "source": [
    "train_labels_bin = [classes.index(lab) for lab in train_labels]\n",
    "test_labels_bin  = [classes.index(lab) for lab in test_labels]"
   ]
  },
  {
   "cell_type": "code",
   "execution_count": 22,
   "id": "fd90c2c7",
   "metadata": {},
   "outputs": [
    {
     "data": {
      "text/plain": [
       "26963"
      ]
     },
     "execution_count": 22,
     "metadata": {},
     "output_type": "execute_result"
    }
   ],
   "source": [
    "len(train_labels_bin)"
   ]
  },
  {
   "cell_type": "code",
   "execution_count": 23,
   "id": "801b9690",
   "metadata": {},
   "outputs": [
    {
     "data": {
      "text/plain": [
       "(26963, 260, 36, 1)"
      ]
     },
     "execution_count": 23,
     "metadata": {},
     "output_type": "execute_result"
    }
   ],
   "source": [
    "train_features.shape"
   ]
  },
  {
   "cell_type": "code",
   "execution_count": 24,
   "id": "3957b1e6",
   "metadata": {},
   "outputs": [],
   "source": [
    "train_ds   = tf.data.Dataset.from_tensor_slices((train_features, train_labels_bin))\n",
    "test_ds    = tf.data.Dataset.from_tensor_slices((test_features, test_labels_bin))\n",
    "batch_size = 128\n",
    "train_ds   = train_ds.batch(batch_size)\n",
    "test_ds    = test_ds.batch(batch_size)"
   ]
  },
  {
   "cell_type": "code",
   "execution_count": 25,
   "id": "baf7c39f",
   "metadata": {},
   "outputs": [],
   "source": [
    "input_shape = train_features.shape[1:]"
   ]
  },
  {
   "cell_type": "code",
   "execution_count": 26,
   "id": "553cd37e",
   "metadata": {},
   "outputs": [
    {
     "name": "stdout",
     "output_type": "stream",
     "text": [
      "Model: \"sequential\"\n",
      "_________________________________________________________________\n",
      "Layer (type)                 Output Shape              Param #   \n",
      "=================================================================\n",
      "conv2d (Conv2D)              (None, 258, 34, 16)       160       \n",
      "_________________________________________________________________\n",
      "max_pooling2d (MaxPooling2D) (None, 129, 17, 16)       0         \n",
      "_________________________________________________________________\n",
      "conv2d_1 (Conv2D)            (None, 127, 15, 16)       2320      \n",
      "_________________________________________________________________\n",
      "max_pooling2d_1 (MaxPooling2 (None, 63, 7, 16)         0         \n",
      "_________________________________________________________________\n",
      "flatten (Flatten)            (None, 7056)              0         \n",
      "_________________________________________________________________\n",
      "dropout (Dropout)            (None, 7056)              0         \n",
      "_________________________________________________________________\n",
      "dense (Dense)                (None, 64)                451648    \n",
      "_________________________________________________________________\n",
      "dropout_1 (Dropout)          (None, 64)                0         \n",
      "_________________________________________________________________\n",
      "dense_1 (Dense)              (None, 2)                 130       \n",
      "=================================================================\n",
      "Total params: 454,258\n",
      "Trainable params: 454,258\n",
      "Non-trainable params: 0\n",
      "_________________________________________________________________\n"
     ]
    }
   ],
   "source": [
    "small_cnn = models.Sequential([\n",
    "        layers.InputLayer(input_shape=input_shape),\n",
    "        layers.Conv2D(16, 3, activation='relu'),\n",
    "        layers.MaxPooling2D(),\n",
    "        layers.Conv2D(16, 3, activation='relu'),\n",
    "        layers.MaxPooling2D(),\n",
    "        layers.Flatten(),\n",
    "        layers.Dropout(0.5),\n",
    "        layers.Dense(64, activation='relu', kernel_regularizer=regularizers.l2(0.001)),\n",
    "        layers.Dropout(0.5),\n",
    "        layers.Dense(2, activation = 'softmax'),\n",
    "    ])\n",
    "small_cnn.summary()"
   ]
  },
  {
   "cell_type": "code",
   "execution_count": 27,
   "id": "b3124c25",
   "metadata": {},
   "outputs": [],
   "source": [
    "small_cnn.compile(\n",
    "    optimizer = tf.keras.optimizers.Adam(learning_rate=0.0001),\n",
    "    loss      = tf.keras.losses.SparseCategoricalCrossentropy(),#from_logits=True),\n",
    "    metrics   = 'accuracy',#tf.keras.metrics.SparseCategoricalAccuracy(),\n",
    ")"
   ]
  },
  {
   "cell_type": "code",
   "execution_count": 28,
   "id": "d910bdd8",
   "metadata": {},
   "outputs": [
    {
     "name": "stdout",
     "output_type": "stream",
     "text": [
      "Epoch 1/25\n",
      "211/211 [==============================] - 88s 410ms/step - loss: 0.6956 - accuracy: 0.6638 - val_loss: 0.6083 - val_accuracy: 0.7258\n",
      "Epoch 2/25\n",
      "211/211 [==============================] - 93s 440ms/step - loss: 0.5967 - accuracy: 0.7279 - val_loss: 0.5498 - val_accuracy: 0.7553\n",
      "Epoch 3/25\n",
      "211/211 [==============================] - 87s 413ms/step - loss: 0.5481 - accuracy: 0.7598 - val_loss: 0.5045 - val_accuracy: 0.7891\n",
      "Epoch 4/25\n",
      "211/211 [==============================] - 73s 345ms/step - loss: 0.5100 - accuracy: 0.7887 - val_loss: 0.4695 - val_accuracy: 0.8122\n",
      "Epoch 5/25\n",
      "211/211 [==============================] - 56s 267ms/step - loss: 0.4831 - accuracy: 0.8046 - val_loss: 0.4432 - val_accuracy: 0.8296\n",
      "Epoch 6/25\n",
      "211/211 [==============================] - 83s 394ms/step - loss: 0.4637 - accuracy: 0.8166 - val_loss: 0.4242 - val_accuracy: 0.8382\n",
      "Epoch 7/25\n",
      "211/211 [==============================] - 75s 353ms/step - loss: 0.4471 - accuracy: 0.8244 - val_loss: 0.4099 - val_accuracy: 0.8434\n",
      "Epoch 8/25\n",
      "211/211 [==============================] - 55s 262ms/step - loss: 0.4320 - accuracy: 0.8329 - val_loss: 0.3965 - val_accuracy: 0.8483\n",
      "Epoch 9/25\n",
      "211/211 [==============================] - 82s 390ms/step - loss: 0.4189 - accuracy: 0.8381 - val_loss: 0.3852 - val_accuracy: 0.8560\n",
      "Epoch 10/25\n",
      "211/211 [==============================] - 75s 354ms/step - loss: 0.4088 - accuracy: 0.8442 - val_loss: 0.3791 - val_accuracy: 0.8563\n",
      "Epoch 11/25\n",
      "211/211 [==============================] - 86s 407ms/step - loss: 0.4029 - accuracy: 0.8447 - val_loss: 0.3726 - val_accuracy: 0.8570\n",
      "Epoch 12/25\n",
      "211/211 [==============================] - 82s 388ms/step - loss: 0.3950 - accuracy: 0.8486 - val_loss: 0.3673 - val_accuracy: 0.8581\n",
      "Epoch 13/25\n",
      "211/211 [==============================] - 78s 368ms/step - loss: 0.3903 - accuracy: 0.8504 - val_loss: 0.3598 - val_accuracy: 0.8642\n",
      "Epoch 14/25\n",
      "211/211 [==============================] - 83s 394ms/step - loss: 0.3822 - accuracy: 0.8526 - val_loss: 0.3546 - val_accuracy: 0.8653\n",
      "Epoch 15/25\n",
      "211/211 [==============================] - 78s 368ms/step - loss: 0.3750 - accuracy: 0.8558 - val_loss: 0.3502 - val_accuracy: 0.8679\n",
      "Epoch 16/25\n",
      "211/211 [==============================] - 84s 397ms/step - loss: 0.3706 - accuracy: 0.8589 - val_loss: 0.3465 - val_accuracy: 0.8692\n",
      "Epoch 17/25\n",
      "211/211 [==============================] - 77s 367ms/step - loss: 0.3676 - accuracy: 0.8591 - val_loss: 0.3425 - val_accuracy: 0.8714\n",
      "Epoch 18/25\n",
      "211/211 [==============================] - 82s 387ms/step - loss: 0.3625 - accuracy: 0.8617 - val_loss: 0.3392 - val_accuracy: 0.8708\n",
      "Epoch 19/25\n",
      "211/211 [==============================] - 81s 383ms/step - loss: 0.3569 - accuracy: 0.8646 - val_loss: 0.3358 - val_accuracy: 0.8723\n",
      "Epoch 20/25\n",
      "211/211 [==============================] - 80s 379ms/step - loss: 0.3545 - accuracy: 0.8665 - val_loss: 0.3319 - val_accuracy: 0.8728\n",
      "Epoch 21/25\n",
      "211/211 [==============================] - 65s 308ms/step - loss: 0.3481 - accuracy: 0.8688 - val_loss: 0.3281 - val_accuracy: 0.8751\n",
      "Epoch 22/25\n",
      "211/211 [==============================] - 72s 344ms/step - loss: 0.3463 - accuracy: 0.8693 - val_loss: 0.3259 - val_accuracy: 0.8759\n",
      "Epoch 23/25\n",
      "211/211 [==============================] - 62s 295ms/step - loss: 0.3412 - accuracy: 0.8719 - val_loss: 0.3221 - val_accuracy: 0.8763\n",
      "Epoch 24/25\n",
      "211/211 [==============================] - 76s 359ms/step - loss: 0.3387 - accuracy: 0.8719 - val_loss: 0.3202 - val_accuracy: 0.8785\n",
      "Epoch 25/25\n",
      "211/211 [==============================] - 77s 363ms/step - loss: 0.3341 - accuracy: 0.8745 - val_loss: 0.3165 - val_accuracy: 0.8802\n"
     ]
    }
   ],
   "source": [
    "EPOCHS  = 25\n",
    "history = small_cnn.fit(train_ds, \n",
    "    validation_data = test_ds,  \n",
    "    epochs          = EPOCHS,\n",
    "    callbacks       = tf.keras.callbacks.EarlyStopping(verbose=1, patience=2)\n",
    ")"
   ]
  },
  {
   "cell_type": "code",
   "execution_count": 29,
   "id": "1fac6d8e",
   "metadata": {},
   "outputs": [],
   "source": [
    "metrics = history.history"
   ]
  },
  {
   "cell_type": "code",
   "execution_count": 30,
   "id": "3f3f767b",
   "metadata": {},
   "outputs": [
    {
     "data": {
      "image/png": "[encoded data removed]",
      "text/plain": [
       "<Figure size 432x288 with 1 Axes>"
      ]
     },
     "metadata": {},
     "output_type": "display_data"
    },
    {
     "data": {
      "image/png": "[encoded data removed]",
      "text/plain": [
       "<Figure size 432x288 with 1 Axes>"
      ]
     },
     "metadata": {},
     "output_type": "display_data"
    }
   ],
   "source": [
    "plt.plot(history.epoch, metrics['loss'], metrics['val_loss'])\n",
    "plt.legend(['loss', 'val_loss'])\n",
    "plt.show()\n",
    "\n",
    "plt.plot(history.epoch, metrics['accuracy'], metrics['val_accuracy'])\n",
    "plt.legend(['accuracy', 'val_accuracy'])\n",
    "plt.show()"
   ]
  },
  {
   "cell_type": "code",
   "execution_count": 31,
   "id": "0f460572",
   "metadata": {},
   "outputs": [],
   "source": [
    "from datetime import datetime"
   ]
  },
  {
   "cell_type": "code",
   "execution_count": 32,
   "id": "47dbac91",
   "metadata": {},
   "outputs": [],
   "source": [
    "model_name = datetime.now().strftime(\"%Y%m%d-%H%M%S\").replace('-', '_')+'_'+test_set+'_shallow_net.h5'"
   ]
  },
  {
   "cell_type": "code",
   "execution_count": 33,
   "id": "f722ae0b",
   "metadata": {},
   "outputs": [],
   "source": [
    "small_cnn.save(model_name)"
   ]
  },
  {
   "cell_type": "code",
   "execution_count": 34,
   "id": "b0ad7da4",
   "metadata": {},
   "outputs": [
    {
     "name": "stdout",
     "output_type": "stream",
     "text": [
      "53/53 [==============================] - 6s 105ms/step - loss: 0.3165 - accuracy: 0.8802\n"
     ]
    },
    {
     "data": {
      "text/plain": [
       "[0.3165128827095032, 0.8801720142364502]"
      ]
     },
     "execution_count": 34,
     "metadata": {},
     "output_type": "execute_result"
    }
   ],
   "source": [
    "small_cnn.evaluate(test_ds)"
   ]
  },
  {
   "cell_type": "code",
   "execution_count": 35,
   "id": "d7b8e656",
   "metadata": {},
   "outputs": [],
   "source": [
    "#need to chop off top of cnn to work with different number of input channels\n",
    "choices = ['AbsRe', 'AbsIm']"
   ]
  },
  {
   "cell_type": "code",
   "execution_count": 36,
   "id": "9a21551b",
   "metadata": {},
   "outputs": [
    {
     "name": "stdout",
     "output_type": "stream",
     "text": [
      "1 / 26973\n",
      "2698 / 26973\n",
      "5395 / 26973\n",
      "8092 / 26973\n",
      "10789 / 26973\n",
      "13486 / 26973\n",
      "16183 / 26973\n",
      "18880 / 26973\n",
      "21577 / 26973\n",
      "24274 / 26973\n",
      "26971 / 26973\n",
      "1 / 6745\n",
      "675 / 6745\n",
      "1349 / 6745\n",
      "2023 / 6745\n",
      "2697 / 6745\n",
      "3371 / 6745\n",
      "4045 / 6745\n",
      "4719 / 6745\n",
      "5393 / 6745\n",
      "6067 / 6745\n",
      "6741 / 6745\n"
     ]
    }
   ],
   "source": [
    "train_features_mult, train_labels_mult = get_multichannel_features(train_paths, params, choices=choices)\n",
    "test_features_mult,  test_labels_mult  = get_multichannel_features(test_paths,  params, choices=choices)"
   ]
  },
  {
   "cell_type": "code",
   "execution_count": 37,
   "id": "5e03f08d",
   "metadata": {},
   "outputs": [],
   "source": [
    "train_labels_mult_bin = [classes.index(lab) for lab in train_labels_mult]\n",
    "test_labels_mult_bin  = [classes.index(lab) for lab in test_labels_mult]"
   ]
  },
  {
   "cell_type": "code",
   "execution_count": 38,
   "id": "606f84c1",
   "metadata": {},
   "outputs": [],
   "source": [
    "train_ds_mult   = tf.data.Dataset.from_tensor_slices((train_features_mult, train_labels_mult_bin))\n",
    "test_ds_mult    = tf.data.Dataset.from_tensor_slices((test_features_mult, test_labels_mult_bin))\n",
    "batch_size      = 128\n",
    "train_ds_mult   = train_ds_mult.batch(batch_size)\n",
    "test_ds_mult    = test_ds_mult.batch(batch_size)"
   ]
  },
  {
   "cell_type": "code",
   "execution_count": 39,
   "id": "8b2696e0",
   "metadata": {},
   "outputs": [],
   "source": [
    "small_cnn_config = small_cnn.get_config()\n",
    "tf_shape = train_features_mult.shape[1:]\n",
    "small_cnn_config[\"layers\"][0][\"config\"][\"batch_input_shape\"] = (None, tf_shape[0], tf_shape[1], tf_shape[2])"
   ]
  },
  {
   "cell_type": "markdown",
   "id": "5bfd8271",
   "metadata": {},
   "source": [
    "This model will be the trained with the parameters from the small_cnn model, but the weights in the first conv layer are copied multiple times to match channels/dimensions"
   ]
  },
  {
   "cell_type": "code",
   "execution_count": 40,
   "id": "4426d7bc",
   "metadata": {},
   "outputs": [],
   "source": [
    "small_cnn_mult = tf.keras.Sequential.from_config(small_cnn_config)"
   ]
  },
  {
   "cell_type": "code",
   "execution_count": 41,
   "id": "9bbb4011",
   "metadata": {},
   "outputs": [
    {
     "name": "stdout",
     "output_type": "stream",
     "text": [
      "Model: \"sequential\"\n",
      "_________________________________________________________________\n",
      "Layer (type)                 Output Shape              Param #   \n",
      "=================================================================\n",
      "conv2d (Conv2D)              (None, 258, 34, 16)       304       \n",
      "_________________________________________________________________\n",
      "max_pooling2d (MaxPooling2D) (None, 129, 17, 16)       0         \n",
      "_________________________________________________________________\n",
      "conv2d_1 (Conv2D)            (None, 127, 15, 16)       2320      \n",
      "_________________________________________________________________\n",
      "max_pooling2d_1 (MaxPooling2 (None, 63, 7, 16)         0         \n",
      "_________________________________________________________________\n",
      "flatten (Flatten)            (None, 7056)              0         \n",
      "_________________________________________________________________\n",
      "dropout (Dropout)            (None, 7056)              0         \n",
      "_________________________________________________________________\n",
      "dense (Dense)                (None, 64)                451648    \n",
      "_________________________________________________________________\n",
      "dropout_1 (Dropout)          (None, 64)                0         \n",
      "_________________________________________________________________\n",
      "dense_1 (Dense)              (None, 2)                 130       \n",
      "=================================================================\n",
      "Total params: 454,402\n",
      "Trainable params: 454,402\n",
      "Non-trainable params: 0\n",
      "_________________________________________________________________\n"
     ]
    }
   ],
   "source": [
    "small_cnn_mult.summary()"
   ]
  },
  {
   "cell_type": "code",
   "execution_count": 42,
   "id": "b1389ffb",
   "metadata": {},
   "outputs": [],
   "source": [
    "#need to copy the weights from other model\n",
    "#from https://towardsdatascience.com/implementing-transfer-learning-from-rgb-to-multi-channel-imagery-f87924679166\n",
    "# Expand weights dimension to match new input channels\n",
    "def multify_weights(kernel, out_channels):\n",
    "    mean_1d = np.mean(kernel, axis=-2).reshape(kernel[:,:,-1:,:].shape)\n",
    "    tiled   = np.tile(mean_1d, (out_channels, 1))\n",
    "    return(tiled)\n",
    "\n",
    "\n",
    "# Loop through layers of both original model \n",
    "# and custom model and copy over weights \n",
    "# layer_modify refers to first convolutional layer\n",
    "def copy_weights_tl(model_orig, custom_model, layer_modify):\n",
    "    layer_to_modify = [layer_modify]\n",
    "\n",
    "    conf = custom_model.get_config()\n",
    "    layer_names   = [conf['layers'][x]['config']['name'] for x in range(len(conf['layers']))]\n",
    "    input_channel = conf[\"layers\"][0][\"config\"][\"batch_input_shape\"][-1]\n",
    "    #old_input_channel = model_orig.get_config()[\"layers\"][0][\"config\"][\"batch_input_shape\"][-1]\n",
    "\n",
    "    for layer in model_orig.layers:\n",
    "        if layer.name in layer_names:\n",
    "            if layer.get_weights() != []:\n",
    "                target_layer = custom_model.get_layer(layer.name)\n",
    "\n",
    "                if layer.name in layer_to_modify:    \n",
    "                    kernels = layer.get_weights()[0]\n",
    "                    biases  = layer.get_weights()[1]\n",
    "            \n",
    "                    kernels_extra_channel = multify_weights(kernels, input_channel)\n",
    "                    #print('kernels_extra_channel', kernels_extra_channel.shape)                                \n",
    "                    target_layer.set_weights([kernels_extra_channel, biases])\n",
    "                    target_layer.trainable = False\n",
    "\n",
    "                else:\n",
    "                    target_layer.set_weights(layer.get_weights())\n",
    "                    target_layer.trainable = False"
   ]
  },
  {
   "cell_type": "code",
   "execution_count": 43,
   "id": "12925de7",
   "metadata": {},
   "outputs": [],
   "source": [
    "copy_weights_tl(small_cnn, small_cnn_mult, small_cnn_config[\"layers\"][1]['config']['name'])"
   ]
  },
  {
   "cell_type": "code",
   "execution_count": 44,
   "id": "a4eedd59",
   "metadata": {},
   "outputs": [],
   "source": [
    "small_cnn_mult.compile(\n",
    "    optimizer = tf.keras.optimizers.Adam(learning_rate=0.0001),\n",
    "    loss      = tf.keras.losses.SparseCategoricalCrossentropy(),#from_logits=True),\n",
    "    metrics   = 'accuracy',#tf.keras.metrics.SparseCategoricalAccuracy(),\n",
    ")"
   ]
  },
  {
   "cell_type": "code",
   "execution_count": 45,
   "id": "0fdda10d",
   "metadata": {},
   "outputs": [
    {
     "name": "stdout",
     "output_type": "stream",
     "text": [
      "53/53 [==============================] - 5s 64ms/step - loss: 0.3204 - accuracy: 0.8796\n"
     ]
    },
    {
     "data": {
      "text/plain": [
       "[0.3204217255115509, 0.8795788288116455]"
      ]
     },
     "execution_count": 45,
     "metadata": {},
     "output_type": "execute_result"
    }
   ],
   "source": [
    "small_cnn_mult.evaluate(test_ds_mult)"
   ]
  },
  {
   "cell_type": "code",
   "execution_count": 46,
   "id": "305fa4a5",
   "metadata": {},
   "outputs": [
    {
     "name": "stdout",
     "output_type": "stream",
     "text": [
      "Epoch 1/5\n",
      "211/211 [==============================] - 27s 124ms/step - loss: 0.3405 - accuracy: 0.8740 - val_loss: 0.3204 - val_accuracy: 0.8796\n",
      "Epoch 2/5\n",
      "211/211 [==============================] - 28s 133ms/step - loss: 0.3445 - accuracy: 0.8726 - val_loss: 0.3204 - val_accuracy: 0.8796\n",
      "Epoch 3/5\n",
      "211/211 [==============================] - 29s 139ms/step - loss: 0.3409 - accuracy: 0.8735 - val_loss: 0.3204 - val_accuracy: 0.8796\n",
      "Epoch 4/5\n",
      "211/211 [==============================] - 30s 141ms/step - loss: 0.3437 - accuracy: 0.8729 - val_loss: 0.3204 - val_accuracy: 0.8796\n",
      "Epoch 5/5\n",
      "211/211 [==============================] - 29s 136ms/step - loss: 0.3397 - accuracy: 0.8755 - val_loss: 0.3204 - val_accuracy: 0.8796\n"
     ]
    }
   ],
   "source": [
    "EPOCHS  = 5\n",
    "history = small_cnn_mult.fit(train_ds_mult, \n",
    "    validation_data = test_ds_mult,  \n",
    "    epochs          = EPOCHS\n",
    ")"
   ]
  },
  {
   "cell_type": "code",
   "execution_count": 47,
   "id": "9890b312",
   "metadata": {},
   "outputs": [],
   "source": [
    "model_name = datetime.now().strftime(\"%Y%m%d-%H%M%S\").replace('-', '_')+'_'+test_set+'_shallow_net_'+''.join(choices)+'.h5'\n",
    "small_cnn_mult.save(model_name)"
   ]
  },
  {
   "cell_type": "code",
   "execution_count": 48,
   "id": "80e12ef6",
   "metadata": {},
   "outputs": [],
   "source": [
    "small_cnn_mult_fresh = tf.keras.Sequential.from_config(small_cnn_config)"
   ]
  },
  {
   "cell_type": "code",
   "execution_count": 49,
   "id": "a5da4edb",
   "metadata": {},
   "outputs": [],
   "source": [
    "small_cnn_mult_fresh.compile(\n",
    "    optimizer = tf.keras.optimizers.Adam(learning_rate=0.0001),\n",
    "    loss      = tf.keras.losses.SparseCategoricalCrossentropy(),#from_logits=True),\n",
    "    metrics   = 'accuracy',#tf.keras.metrics.SparseCategoricalAccuracy(),\n",
    ")"
   ]
  },
  {
   "cell_type": "code",
   "execution_count": 50,
   "id": "85c34efe",
   "metadata": {},
   "outputs": [
    {
     "name": "stdout",
     "output_type": "stream",
     "text": [
      "53/53 [==============================] - 6s 93ms/step - loss: 0.8224 - accuracy: 0.4301\n"
     ]
    },
    {
     "data": {
      "text/plain": [
       "[0.8223764300346375, 0.43007564544677734]"
      ]
     },
     "execution_count": 50,
     "metadata": {},
     "output_type": "execute_result"
    }
   ],
   "source": [
    "small_cnn_mult_fresh.evaluate(test_ds_mult)"
   ]
  },
  {
   "cell_type": "code",
   "execution_count": 51,
   "id": "68d55323",
   "metadata": {},
   "outputs": [
    {
     "name": "stdout",
     "output_type": "stream",
     "text": [
      "Epoch 1/25\n",
      "211/211 [==============================] - 64s 299ms/step - loss: 0.7028 - accuracy: 0.6515 - val_loss: 0.6124 - val_accuracy: 0.7252\n",
      "Epoch 2/25\n",
      "211/211 [==============================] - 66s 315ms/step - loss: 0.6026 - accuracy: 0.7235 - val_loss: 0.5537 - val_accuracy: 0.7544\n",
      "Epoch 3/25\n",
      "211/211 [==============================] - 67s 316ms/step - loss: 0.5507 - accuracy: 0.7570 - val_loss: 0.5014 - val_accuracy: 0.7885\n",
      "Epoch 4/25\n",
      "211/211 [==============================] - 65s 306ms/step - loss: 0.5060 - accuracy: 0.7856 - val_loss: 0.4596 - val_accuracy: 0.8197\n",
      "Epoch 5/25\n",
      "211/211 [==============================] - 70s 331ms/step - loss: 0.4726 - accuracy: 0.8077 - val_loss: 0.4305 - val_accuracy: 0.8327\n",
      "Epoch 6/25\n",
      "211/211 [==============================] - 80s 377ms/step - loss: 0.4510 - accuracy: 0.8217 - val_loss: 0.4113 - val_accuracy: 0.8424\n",
      "Epoch 7/25\n",
      "211/211 [==============================] - 82s 389ms/step - loss: 0.4334 - accuracy: 0.8305 - val_loss: 0.3927 - val_accuracy: 0.8539\n",
      "Epoch 8/25\n",
      "211/211 [==============================] - 95s 450ms/step - loss: 0.4192 - accuracy: 0.8385 - val_loss: 0.3827 - val_accuracy: 0.8570\n",
      "Epoch 9/25\n",
      "211/211 [==============================] - 97s 459ms/step - loss: 0.4108 - accuracy: 0.8433 - val_loss: 0.3744 - val_accuracy: 0.8579\n",
      "Epoch 10/25\n",
      "211/211 [==============================] - 97s 457ms/step - loss: 0.4020 - accuracy: 0.8472 - val_loss: 0.3650 - val_accuracy: 0.8636\n",
      "Epoch 11/25\n",
      "211/211 [==============================] - 98s 465ms/step - loss: 0.3931 - accuracy: 0.8522 - val_loss: 0.3598 - val_accuracy: 0.8647\n",
      "Epoch 12/25\n",
      "211/211 [==============================] - 94s 445ms/step - loss: 0.3842 - accuracy: 0.8551 - val_loss: 0.3532 - val_accuracy: 0.8674\n",
      "Epoch 13/25\n",
      "211/211 [==============================] - 92s 438ms/step - loss: 0.3811 - accuracy: 0.8567 - val_loss: 0.3513 - val_accuracy: 0.8649\n",
      "Epoch 14/25\n",
      "211/211 [==============================] - 99s 469ms/step - loss: 0.3747 - accuracy: 0.8595 - val_loss: 0.3438 - val_accuracy: 0.8704\n",
      "Epoch 15/25\n",
      "211/211 [==============================] - 96s 457ms/step - loss: 0.3706 - accuracy: 0.8606 - val_loss: 0.3391 - val_accuracy: 0.8717\n",
      "Epoch 16/25\n",
      "211/211 [==============================] - 96s 453ms/step - loss: 0.3644 - accuracy: 0.8621 - val_loss: 0.3357 - val_accuracy: 0.8723\n",
      "Epoch 17/25\n",
      "211/211 [==============================] - 98s 466ms/step - loss: 0.3579 - accuracy: 0.8665 - val_loss: 0.3295 - val_accuracy: 0.8747\n",
      "Epoch 18/25\n",
      "211/211 [==============================] - 96s 457ms/step - loss: 0.3539 - accuracy: 0.8684 - val_loss: 0.3254 - val_accuracy: 0.8779\n",
      "Epoch 19/25\n",
      "211/211 [==============================] - 98s 465ms/step - loss: 0.3511 - accuracy: 0.8694 - val_loss: 0.3227 - val_accuracy: 0.8775\n",
      "Epoch 20/25\n",
      "211/211 [==============================] - 100s 474ms/step - loss: 0.3471 - accuracy: 0.8689 - val_loss: 0.3195 - val_accuracy: 0.8814\n",
      "Epoch 21/25\n",
      "211/211 [==============================] - 102s 481ms/step - loss: 0.3416 - accuracy: 0.8723 - val_loss: 0.3158 - val_accuracy: 0.8817\n",
      "Epoch 22/25\n",
      "211/211 [==============================] - 98s 464ms/step - loss: 0.3403 - accuracy: 0.8730 - val_loss: 0.3121 - val_accuracy: 0.8839\n",
      "Epoch 23/25\n",
      "211/211 [==============================] - 97s 461ms/step - loss: 0.3359 - accuracy: 0.8762 - val_loss: 0.3090 - val_accuracy: 0.8842\n",
      "Epoch 24/25\n",
      "211/211 [==============================] - 96s 457ms/step - loss: 0.3322 - accuracy: 0.8764 - val_loss: 0.3068 - val_accuracy: 0.8863\n",
      "Epoch 25/25\n",
      "211/211 [==============================] - 97s 460ms/step - loss: 0.3270 - accuracy: 0.8794 - val_loss: 0.3046 - val_accuracy: 0.8857\n"
     ]
    }
   ],
   "source": [
    "EPOCHS  = 25\n",
    "history = small_cnn_mult_fresh.fit(train_ds_mult, \n",
    "    validation_data = test_ds_mult,  \n",
    "    epochs          = EPOCHS,\n",
    "    callbacks       = tf.keras.callbacks.EarlyStopping(verbose=1, patience=2)\n",
    ")"
   ]
  },
  {
   "cell_type": "code",
   "execution_count": 52,
   "id": "874c736f",
   "metadata": {},
   "outputs": [],
   "source": [
    "model_name = datetime.now().strftime(\"%Y%m%d-%H%M%S\").replace('-', '_')+'_'+test_set+'_shallow_net_'+''.join(choices)+'_fresh.h5'\n",
    "small_cnn_mult.save(model_name)"
   ]
  },
  {
   "cell_type": "code",
   "execution_count": 53,
   "id": "c28fd56b",
   "metadata": {},
   "outputs": [],
   "source": [
    "#Trained on multiple channels, evaluate on one channel"
   ]
  },
  {
   "cell_type": "code",
   "execution_count": 54,
   "id": "eb16310b",
   "metadata": {},
   "outputs": [],
   "source": [
    "small_cnn_mult_config = small_cnn_mult.get_config()\n",
    "tf_shape = train_features.shape[1:]\n",
    "small_cnn_mult_config[\"layers\"][0][\"config\"][\"batch_input_shape\"] = (None, tf_shape[0], tf_shape[1], tf_shape[2])\n",
    "small_cnn_mult_single = tf.keras.Sequential.from_config(small_cnn_mult_config)\n",
    "copy_weights_tl(small_cnn_mult, small_cnn_mult_single, small_cnn_mult_config[\"layers\"][1]['config']['name'])"
   ]
  },
  {
   "cell_type": "code",
   "execution_count": 55,
   "id": "6064a633",
   "metadata": {},
   "outputs": [],
   "source": [
    "small_cnn_mult_single.compile(\n",
    "    optimizer = tf.keras.optimizers.Adam(learning_rate=0.0001),\n",
    "    loss      = tf.keras.losses.SparseCategoricalCrossentropy(),#from_logits=True),\n",
    "    metrics   = 'accuracy',#tf.keras.metrics.SparseCategoricalAccuracy(),\n",
    ")"
   ]
  },
  {
   "cell_type": "code",
   "execution_count": 56,
   "id": "c3f2aafb",
   "metadata": {},
   "outputs": [
    {
     "name": "stdout",
     "output_type": "stream",
     "text": [
      "53/53 [==============================] - 12s 199ms/step - loss: 0.3165 - accuracy: 0.8802\n"
     ]
    },
    {
     "data": {
      "text/plain": [
       "[0.3165128827095032, 0.8801720142364502]"
      ]
     },
     "execution_count": 56,
     "metadata": {},
     "output_type": "execute_result"
    }
   ],
   "source": [
    "small_cnn_mult_single.evaluate(test_ds)"
   ]
  },
  {
   "cell_type": "code",
   "execution_count": 57,
   "id": "3e8e70e3",
   "metadata": {},
   "outputs": [
    {
     "name": "stdout",
     "output_type": "stream",
     "text": [
      "Epoch 1/5\n",
      "211/211 [==============================] - 63s 293ms/step - loss: 0.3314 - accuracy: 0.8785 - val_loss: 0.3165 - val_accuracy: 0.8802\n",
      "Epoch 2/5\n",
      "211/211 [==============================] - 36s 171ms/step - loss: 0.3302 - accuracy: 0.8763 - val_loss: 0.3165 - val_accuracy: 0.8802\n",
      "Epoch 3/5\n",
      "211/211 [==============================] - 38s 180ms/step - loss: 0.3297 - accuracy: 0.8775 - val_loss: 0.3165 - val_accuracy: 0.8802\n",
      "Epoch 4/5\n",
      "211/211 [==============================] - 36s 172ms/step - loss: 0.3296 - accuracy: 0.8760 - val_loss: 0.3165 - val_accuracy: 0.8802\n",
      "Epoch 5/5\n",
      "211/211 [==============================] - 37s 174ms/step - loss: 0.3282 - accuracy: 0.8785 - val_loss: 0.3165 - val_accuracy: 0.8802\n"
     ]
    }
   ],
   "source": [
    "EPOCHS  = 5\n",
    "history = small_cnn_mult_single.fit(train_ds, \n",
    "    validation_data = test_ds,  \n",
    "    epochs          = EPOCHS\n",
    ")"
   ]
  },
  {
   "cell_type": "code",
   "execution_count": 58,
   "id": "471946f1",
   "metadata": {},
   "outputs": [],
   "source": [
    "model_name = datetime.now().strftime(\"%Y%m%d-%H%M%S\").replace('-', '_')+'_'+test_set+'_shallow_net_'+''.join(choices)+'_mult_single.h5'\n",
    "small_cnn_mult.save(model_name)"
   ]
  },
  {
   "cell_type": "markdown",
   "id": "6e7ad4b4",
   "metadata": {},
   "source": [
    "\n",
    "Test the following:\n",
    "- multichannel evaluated on pre-trained single channel model\n",
    "- multichannel trained for a small number of epochs on  pre-trained single channel model\n",
    "- multichannel trained from scratch\n",
    "\n",
    "Test the following:\n",
    "    \n",
    "- single channel evaluated on pre-trained multichannel model \n",
    "- single channel trained for a small number of epochs on  pre-trained multichannel model \n",
    "- single channel trained from scratch "
   ]
  }
 ],
 "metadata": {
  "kernelspec": {
   "display_name": "Python 3",
   "language": "python",
   "name": "python3"
  },
  "language_info": {
   "codemirror_mode": {
    "name": "ipython",
    "version": 3
   },
   "file_extension": ".py",
   "mimetype": "text/x-python",
   "name": "python",
   "nbconvert_exporter": "python",
   "pygments_lexer": "ipython3",
   "version": "3.8.8"
  }
 },
 "nbformat": 4,
 "nbformat_minor": 5
}
