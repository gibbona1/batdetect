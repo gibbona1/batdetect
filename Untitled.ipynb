{
 "cells": [
  {
   "cell_type": "code",
   "execution_count": 2,
   "id": "5875f333",
   "metadata": {},
   "outputs": [],
   "source": [
    "import numpy as np\n",
    "import matplotlib.pyplot as plt\n",
    "import os\n",
    "#import evaluate as evl\n",
    "#import create_results as res\n",
    "#from data_set_params import DataSetParams\n",
    "#import classifier as clss\n",
    "import pandas as pd\n",
    "import pickle"
   ]
  },
  {
   "cell_type": "code",
   "execution_count": 3,
   "id": "49981470",
   "metadata": {},
   "outputs": [
    {
     "name": "stdout",
     "output_type": "stream",
     "text": [
      "test set: bulgaria\n"
     ]
    }
   ],
   "source": [
    "test_set      = 'bulgaria'  # can be one of: bulgaria, uk, norfolk\n",
    "data_set      = 'bat_train/data/train_test_split/test_set_' + test_set + '.npz'\n",
    "raw_audio_dir = 'bat_train/data/wav/'\n",
    "base_line_dir = 'bat_train/data/baselines/'\n",
    "result_dir    = 'bat_train/results/'\n",
    "model_dir     = 'bat_train/data/models/'\n",
    "if not os.path.isdir(result_dir):\n",
    "    os.mkdir(result_dir)\n",
    "if not os.path.isdir(model_dir):\n",
    "    os.mkdir(model_dir)\n",
    "print('test set:', test_set)\n",
    "plt.close('all')"
   ]
  },
  {
   "cell_type": "code",
   "execution_count": 4,
   "id": "a3b4df53",
   "metadata": {},
   "outputs": [],
   "source": [
    "# train and test_pos are in units of seconds\n",
    "loaded_data_tr  = np.load(data_set, allow_pickle = True, encoding = 'latin1')\n",
    "train_pos       = loaded_data_tr['train_pos']\n",
    "train_files     = loaded_data_tr['train_files']\n",
    "train_durations = loaded_data_tr['train_durations']\n",
    "test_pos        = loaded_data_tr['test_pos']\n",
    "test_files      = loaded_data_tr['test_files']\n",
    "test_durations  = loaded_data_tr['test_durations']"
   ]
  },
  {
   "cell_type": "code",
   "execution_count": 21,
   "id": "ac9724b6",
   "metadata": {},
   "outputs": [
    {
     "data": {
      "text/plain": [
       "array([array([[2.72219259]]), array([[0.30727955],\n",
       "                                     [2.46308175]]),\n",
       "       array([[2.71029941]]), ..., array([[0.78145239]]),\n",
       "       array([[0.38607515],\n",
       "              [1.43441171],\n",
       "              [2.46049064]]), array([[2.15992207]])], dtype=object)"
      ]
     },
     "execution_count": 21,
     "metadata": {},
     "output_type": "execute_result"
    }
   ],
   "source": [
    "train_pos[:]"
   ]
  },
  {
   "cell_type": "code",
   "execution_count": 5,
   "id": "e45db15a",
   "metadata": {},
   "outputs": [
    {
     "name": "stdout",
     "output_type": "stream",
     "text": [
      "2812\n",
      "2812\n",
      "2812\n",
      "500\n",
      "500\n",
      "500\n"
     ]
    }
   ],
   "source": [
    "print(len(train_pos))\n",
    "print(len(train_files))\n",
    "print(len(train_durations))\n",
    "print(len(test_pos))\n",
    "print(len(test_files))\n",
    "print(len(test_durations))"
   ]
  },
  {
   "cell_type": "code",
   "execution_count": 9,
   "id": "3de7680f",
   "metadata": {},
   "outputs": [],
   "source": [
    "train_files_decode = [s.decode()+'.wav' for s in train_files]\n",
    "test_files_decode  = [s.decode()+'.wav' for s in test_files]"
   ]
  },
  {
   "cell_type": "code",
   "execution_count": 15,
   "id": "9c454999",
   "metadata": {},
   "outputs": [
    {
     "data": {
      "text/plain": [
       "'50689631516bcb8d0a0001ac'"
      ]
     },
     "execution_count": 15,
     "metadata": {},
     "output_type": "execute_result"
    }
   ],
   "source": [
    "train_files[0].decode()"
   ]
  },
  {
   "cell_type": "code",
   "execution_count": 13,
   "id": "1da49ae2",
   "metadata": {},
   "outputs": [
    {
     "data": {
      "text/plain": [
       "['50689639516bcb8d0a004790wav',\n",
       " '50689639516bcb8d0a0047bfwav',\n",
       " '50689639516bcb8d0a004839wav',\n",
       " '50689639516bcb8d0a004a4bwav',\n",
       " '50689639516bcb8d0a004b50wav',\n",
       " '50689639516bcb8d0a004bbbwav',\n",
       " '50689639516bcb8d0a004bffwav',\n",
       " '50689639516bcb8d0a004c97wav',\n",
       " '50689639516bcb8d0a004cc7wav',\n",
       " '5068963a516bcb8d0a004ddbwav',\n",
       " '5068963a516bcb8d0a004f4bwav',\n",
       " '5068963a516bcb8d0a004f69wav',\n",
       " '5068963a516bcb8d0a004ffcwav',\n",
       " '5068963a516bcb8d0a005005wav',\n",
       " '5068963a516bcb8d0a005230wav',\n",
       " '5068963a516bcb8d0a005341wav',\n",
       " '5068963a516bcb8d0a0053b4wav',\n",
       " '5068963a516bcb8d0a0053b9wav',\n",
       " '5068963b516bcb8d0a00555bwav',\n",
       " '5068963b516bcb8d0a00555cwav',\n",
       " '5068963b516bcb8d0a005585wav',\n",
       " '5068963b516bcb8d0a005593wav',\n",
       " '5068963b516bcb8d0a005614wav',\n",
       " '5068963b516bcb8d0a005732wav',\n",
       " '5068963b516bcb8d0a00575dwav',\n",
       " '5068963b516bcb8d0a005971wav',\n",
       " '5068963b516bcb8d0a005999wav',\n",
       " '5068963b516bcb8d0a00599bwav',\n",
       " '5068963b516bcb8d0a005b3cwav',\n",
       " '5068963b516bcb8d0a005b3fwav',\n",
       " '5068963b516bcb8d0a005b45wav',\n",
       " '5068963b516bcb8d0a005b48wav',\n",
       " '5068963b516bcb8d0a005bbcwav',\n",
       " '5068963b516bcb8d0a005be9wav',\n",
       " '5068963c516bcb8d0a005cc7wav',\n",
       " '5068963c516bcb8d0a005ccbwav',\n",
       " '5068963c516bcb8d0a005ce4wav',\n",
       " '5068963c516bcb8d0a005d64wav',\n",
       " '5068963c516bcb8d0a005e10wav',\n",
       " '5068963c516bcb8d0a005e53wav',\n",
       " '5068963c516bcb8d0a005e5ewav',\n",
       " '5068963c516bcb8d0a005e69wav',\n",
       " '5068963c516bcb8d0a005e74wav',\n",
       " '5068963c516bcb8d0a005ec9wav',\n",
       " '5068963c516bcb8d0a005ecewav',\n",
       " '5068963c516bcb8d0a005ed1wav',\n",
       " '5068963c516bcb8d0a005eebwav',\n",
       " '5068963c516bcb8d0a005f19wav',\n",
       " '5068963c516bcb8d0a005feawav',\n",
       " '5068963c516bcb8d0a0060eawav',\n",
       " '5068963c516bcb8d0a0061b7wav',\n",
       " '5068963c516bcb8d0a0061bawav',\n",
       " '5068963c516bcb8d0a006259wav',\n",
       " '5068963d516bcb8d0a0063bbwav',\n",
       " '5068963d516bcb8d0a006458wav',\n",
       " '5068963d516bcb8d0a006468wav',\n",
       " '5068963d516bcb8d0a0068d4wav',\n",
       " '5068963d516bcb8d0a006921wav',\n",
       " '5068963d516bcb8d0a006928wav',\n",
       " '5068963d516bcb8d0a0069c7wav',\n",
       " '5068963d516bcb8d0a006a20wav',\n",
       " '5068963d516bcb8d0a006a43wav',\n",
       " '5068963e516bcb8d0a006c00wav',\n",
       " '5068963e516bcb8d0a006c4ewav',\n",
       " '5068963e516bcb8d0a006e2awav',\n",
       " '5068963e516bcb8d0a006f59wav',\n",
       " '5068963e516bcb8d0a006f6cwav',\n",
       " '5068963e516bcb8d0a006f76wav',\n",
       " '5068963e516bcb8d0a006f7fwav',\n",
       " '5068963e516bcb8d0a006f8awav',\n",
       " '5068963e516bcb8d0a006fc3wav',\n",
       " '5068963e516bcb8d0a006ff6wav',\n",
       " '5068963e516bcb8d0a007260wav',\n",
       " '5068963f516bcb8d0a00749cwav',\n",
       " '5068963f516bcb8d0a00753awav',\n",
       " '5068963f516bcb8d0a007591wav',\n",
       " '5068963f516bcb8d0a00759fwav',\n",
       " '5068963f516bcb8d0a007616wav',\n",
       " '5068963f516bcb8d0a0076e7wav',\n",
       " '5068963f516bcb8d0a00789awav',\n",
       " '5068963f516bcb8d0a0078fcwav',\n",
       " '5068963f516bcb8d0a007977wav',\n",
       " '50689640516bcb8d0a007ba7wav',\n",
       " '50689640516bcb8d0a007d3dwav',\n",
       " '50689640516bcb8d0a007d5awav',\n",
       " '50689640516bcb8d0a007de6wav',\n",
       " '50689640516bcb8d0a00822fwav',\n",
       " '50689640516bcb8d0a00824bwav',\n",
       " '50689640516bcb8d0a008257wav',\n",
       " '50689641516bcb8d0a0082e1wav',\n",
       " '50689641516bcb8d0a008334wav',\n",
       " '50689641516bcb8d0a0083fdwav',\n",
       " '50689641516bcb8d0a008571wav',\n",
       " '50689641516bcb8d0a0085e3wav',\n",
       " '50689641516bcb8d0a008607wav',\n",
       " '50689641516bcb8d0a008620wav',\n",
       " '50689641516bcb8d0a0087a3wav',\n",
       " '50689641516bcb8d0a0087eawav',\n",
       " '50689641516bcb8d0a008813wav',\n",
       " '50689641516bcb8d0a008822wav']"
      ]
     },
     "execution_count": 13,
     "metadata": {},
     "output_type": "execute_result"
    }
   ],
   "source": [
    "train_files_decode[100:200]"
   ]
  },
  {
   "cell_type": "code",
   "execution_count": null,
   "id": "2add8bf9",
   "metadata": {},
   "outputs": [],
   "source": []
  }
 ],
 "metadata": {
  "kernelspec": {
   "display_name": "Python 3",
   "language": "python",
   "name": "python3"
  },
  "language_info": {
   "codemirror_mode": {
    "name": "ipython",
    "version": 3
   },
   "file_extension": ".py",
   "mimetype": "text/x-python",
   "name": "python",
   "nbconvert_exporter": "python",
   "pygments_lexer": "ipython3",
   "version": "3.8.8"
  }
 },
 "nbformat": 4,
 "nbformat_minor": 5
}
