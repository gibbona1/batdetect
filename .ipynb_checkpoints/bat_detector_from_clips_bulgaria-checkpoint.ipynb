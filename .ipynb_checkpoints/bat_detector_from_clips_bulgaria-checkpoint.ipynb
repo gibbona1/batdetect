{
 "cells": [
  {
   "cell_type": "code",
   "execution_count": 1,
   "id": "37b25483",
   "metadata": {},
   "outputs": [],
   "source": [
    "import os\n",
    "import numpy as np\n",
    "import joblib\n",
    "\n",
    "import matplotlib.pyplot as plt\n",
    "import seaborn as sns\n",
    "import plotly.graph_objs as go\n",
    "\n",
    "import pickle\n",
    "import tensorflow as tf\n",
    "from tensorflow.keras import layers, models, regularizers\n",
    "\n",
    "from sklearn.ensemble import RandomForestClassifier\n",
    "from sklearn.metrics import roc_curve, roc_auc_score, confusion_matrix\n",
    "import scipy.ndimage.morphology as morph\n",
    "from scipy.ndimage.filters import median_filter\n",
    "import scipy.ndimage\n",
    "from skimage.measure import regionprops\n",
    "import pandas as pd\n",
    "\n",
    "#import bat_train.evaluate as evl\n",
    "from scipy.io import wavfile\n",
    "#from helper_fns import *"
   ]
  },
  {
   "cell_type": "code",
   "execution_count": 20,
   "id": "31159c7a",
   "metadata": {},
   "outputs": [
    {
     "name": "stdout",
     "output_type": "stream",
     "text": [
      "test set: bulgaria\n"
     ]
    }
   ],
   "source": [
    "test_set      = 'bulgaria'  # can be one of: bulgaria, uk, norfolk\n",
    "data_set      = 'bat_train/data/train_test_split/test_set_' + test_set + '.npz'\n",
    "raw_audio_dir = 'bat_train/data/wav/'\n",
    "clip_audio_dir= 'bat_train/data/wav_clips/'\n",
    "base_line_dir = 'bat_train/data/baselines/'\n",
    "result_dir    = 'bat_train/results/'\n",
    "model_dir     = 'bat_train/data/models/'\n",
    "if not os.path.isdir(result_dir):\n",
    "    os.mkdir(result_dir)\n",
    "if not os.path.isdir(model_dir):\n",
    "    os.mkdir(model_dir)\n",
    "print('test set:', test_set)\n",
    "plt.close('all')"
   ]
  },
  {
   "cell_type": "code",
   "execution_count": 21,
   "id": "ecdbafe2",
   "metadata": {},
   "outputs": [],
   "source": [
    "classes = ['not_bat', 'bat']"
   ]
  },
  {
   "cell_type": "code",
   "execution_count": 22,
   "id": "0e442cbe",
   "metadata": {},
   "outputs": [],
   "source": [
    "#os.listdir(clip_audio_dir+test_set)\n",
    "non_bat_dir = clip_audio_dir+test_set+'/'+classes[0]+'/'\n",
    "bat_dir     = clip_audio_dir+test_set+'/'+classes[1]+'/'"
   ]
  },
  {
   "cell_type": "code",
   "execution_count": 23,
   "id": "a5642bac",
   "metadata": {},
   "outputs": [],
   "source": [
    "bat_paths     = [bat_dir + fn for fn in os.listdir(bat_dir)]\n",
    "non_bat_paths = [non_bat_dir + fn for fn in os.listdir(non_bat_dir)]"
   ]
  },
  {
   "cell_type": "code",
   "execution_count": 24,
   "id": "321a63a2",
   "metadata": {},
   "outputs": [],
   "source": [
    "from random import shuffle"
   ]
  },
  {
   "cell_type": "code",
   "execution_count": 25,
   "id": "aaa400db",
   "metadata": {},
   "outputs": [],
   "source": [
    "shuffle(bat_paths)\n",
    "shuffle(non_bat_paths)"
   ]
  },
  {
   "cell_type": "code",
   "execution_count": 26,
   "id": "af384943",
   "metadata": {},
   "outputs": [],
   "source": [
    "train_perc = 0.8\n",
    "bat_cutoff = int(train_perc*len(bat_paths))\n",
    "non_bat_cutoff = int(train_perc*len(non_bat_paths))"
   ]
  },
  {
   "cell_type": "code",
   "execution_count": 27,
   "id": "a6b828b6",
   "metadata": {},
   "outputs": [],
   "source": [
    "train_paths = bat_paths[:bat_cutoff]\n",
    "train_paths.extend(non_bat_paths[:non_bat_cutoff])\n",
    "test_paths = bat_paths[bat_cutoff:]\n",
    "test_paths.extend(non_bat_paths[non_bat_cutoff:])"
   ]
  },
  {
   "cell_type": "code",
   "execution_count": 28,
   "id": "6404e70a",
   "metadata": {},
   "outputs": [],
   "source": [
    "shuffle(train_paths)\n",
    "shuffle(test_paths)"
   ]
  },
  {
   "cell_type": "code",
   "execution_count": 29,
   "id": "a1eda3c3",
   "metadata": {},
   "outputs": [],
   "source": [
    "#TODO: define functions that get the different channels, e.g. regular spectrogram, real, im, arg, harmonics"
   ]
  },
  {
   "cell_type": "code",
   "execution_count": 30,
   "id": "dcbd6abf",
   "metadata": {},
   "outputs": [],
   "source": [
    "from bat_train.data_set_params import DataSetParams"
   ]
  },
  {
   "cell_type": "code",
   "execution_count": 31,
   "id": "4b23ead8",
   "metadata": {},
   "outputs": [],
   "source": [
    "params = DataSetParams()"
   ]
  },
  {
   "cell_type": "code",
   "execution_count": 32,
   "id": "3972e925",
   "metadata": {},
   "outputs": [],
   "source": [
    "def gen_complex_spec(audio_samp, samp_rate, params):\n",
    "    nfft     = int(params.fft_win_length*samp_rate)\n",
    "    noverlap = int(params.fft_overlap*nfft)\n",
    "\n",
    "    # window data\n",
    "    step    = nfft - noverlap\n",
    "    #print(step)\n",
    "    shape   = (nfft, (audio_samp.shape[-1]-noverlap)//step)\n",
    "    strides = (audio_samp.strides[0], step*audio_samp.strides[0])\n",
    "    x_wins  = np.lib.stride_tricks.as_strided(audio_samp, shape=shape, strides=strides)\n",
    "    x_wins_han = np.hanning(x_wins.shape[0])[..., np.newaxis] * x_wins\n",
    "    \n",
    "    # do fft\n",
    "    # note this will be much slower if x_wins_han.shape[0] is not a power of 2\n",
    "    complex_spec = np.fft.rfft(x_wins_han, axis=0)\n",
    "    return complex_spec"
   ]
  },
  {
   "cell_type": "code",
   "execution_count": 33,
   "id": "ea2aea74",
   "metadata": {},
   "outputs": [],
   "source": [
    "def multi_spec_stack(complex_spec, choices = ['Mod']):\n",
    "    #possible components:\n",
    "    ##Mod    modulus/absolute value (regular)\n",
    "    ##Re     real component\n",
    "    ##AbsRe  abs(real component)\n",
    "    ##Im     imaginary component\n",
    "    ##AbsIm  abs(imaginary component)\n",
    "    ##Ang    angular componant\n",
    "    ##AbsAng abs(angular componant)\n",
    "    spec_arr = []\n",
    "    for c in choices:\n",
    "        def apply_func(x,c):\n",
    "            if c == 'Mod':\n",
    "                return tf.math.abs(x)\n",
    "            if c == 'Re':\n",
    "                return tf.math.real(x)\n",
    "            if c == 'AbsRe':\n",
    "                return tf.math.abs(tf.math.real(x))\n",
    "            if c == 'Im':\n",
    "                return tf.math.imag(x)\n",
    "            if c == 'AbsIm':\n",
    "                return tf.math.abs(tf.math.imag(x))\n",
    "            if c == 'Ang':\n",
    "                return tf.math.ang(x)\n",
    "            if c == 'AbsAng':\n",
    "                return tf.math.abs(tf.math.imag(x))\n",
    "        spec_arr.append(apply_func(complex_spec,c))\n",
    "    return np.stack(spec_arr,-1)"
   ]
  },
  {
   "cell_type": "code",
   "execution_count": 34,
   "id": "9358dae5",
   "metadata": {},
   "outputs": [],
   "source": [
    "def multi_spec_post(spec, samp_rate):\n",
    "    spec = spec[1:, :, :]\n",
    "    spec = np.flipud(spec)\n",
    "    # only keep the relevant bands - could do this outside\n",
    "    if params.crop_spec:\n",
    "        spec = spec[-params.max_freq:-params.min_freq, :, :]\n",
    "    \n",
    "        # add some zeros if too small\n",
    "        req_height = params.max_freq-params.min_freq\n",
    "        if spec.shape[0] < req_height:\n",
    "            zero_pad = np.zeros((req_height-spec.shape[0], spec.shape[1], spec.shape[2]))\n",
    "            spec     = np.vstack((zero_pad, spec))\n",
    "\n",
    "    # perform log scaling - here the same as matplotlib\n",
    "    log_scaling = 2.0 * (1.0 / samp_rate) * (1.0/(np.abs(np.hanning(int(params.fft_win_length*samp_rate)))**2).sum())\n",
    "    spec        = np.log(1.0 + log_scaling*spec)\n",
    "    def spec_normalize(x, axis = (0,1), kd = True):\n",
    "        return (x- x.min(axis=axis, keepdims=kd))/(x.max(axis=axis, keepdims=kd) - x.min(axis=axis, keepdims=kd))\n",
    "    spec = spec_normalize(spec)\n",
    "    return(spec)"
   ]
  },
  {
   "cell_type": "code",
   "execution_count": 35,
   "id": "d31f4bdb",
   "metadata": {},
   "outputs": [],
   "source": [
    "spec_shape = (260, 36, 1)"
   ]
  },
  {
   "cell_type": "code",
   "execution_count": 36,
   "id": "602c1457",
   "metadata": {},
   "outputs": [],
   "source": [
    "def get_multichannel_features(paths, params, choices = ['Mod']):\n",
    "    feats = []\n",
    "    labels = []\n",
    "    count = 0\n",
    "    ndiv = len(paths) // 10\n",
    "    spec_shape = (260, 36, len(choices))\n",
    "    for file_name in paths:\n",
    "        #print(file_name)\n",
    "        if count % ndiv == 0:\n",
    "            print(count+1, '/', len(paths))\n",
    "        count = count + 1\n",
    "        samp_rate, audio_samp = wavfile.read(file_name)\n",
    "        #print('samp_rate:',samp_rate)\n",
    "        #print('len(audio_samp):', len(audio_samp))\n",
    "        if len(audio_samp)/samp_rate < 0.1:\n",
    "            #os.remove(file_name)\n",
    "            continue \n",
    "        labels.append(file_name.split('/')[-2])\n",
    "        complex_spec = gen_complex_spec(audio_samp, samp_rate, params)\n",
    "        multi_spec = multi_spec_stack(complex_spec, choices)\n",
    "        multi_spec = multi_spec_post(multi_spec, samp_rate)\n",
    "        if multi_spec.shape[1] < spec_shape[1]:\n",
    "            #print('1',multi_spec.shape)\n",
    "            zero_pad = np.zeros((spec_shape[0], spec_shape[1] - multi_spec.shape[1], spec_shape[2]))\n",
    "            multi_spec = np.hstack((multi_spec, zero_pad))\n",
    "            #print('2',multi_spec.shape)\n",
    "        feats.append(multi_spec)\n",
    "    #print([fts.shape for fts in feats])\n",
    "    features = np.stack(feats, axis=0)\n",
    "    #features = np.squeeze(features)\n",
    "    return features, labels"
   ]
  },
  {
   "cell_type": "code",
   "execution_count": 37,
   "id": "aa057830",
   "metadata": {},
   "outputs": [
    {
     "name": "stdout",
     "output_type": "stream",
     "text": [
      "1 / 30626\n",
      "3063 / 30626\n",
      "6125 / 30626\n",
      "9187 / 30626\n",
      "12249 / 30626\n",
      "15311 / 30626\n",
      "18373 / 30626\n",
      "21435 / 30626\n",
      "24497 / 30626\n",
      "27559 / 30626\n",
      "30621 / 30626\n",
      "1 / 7657\n",
      "766 / 7657\n",
      "1531 / 7657\n",
      "2296 / 7657\n",
      "3061 / 7657\n",
      "3826 / 7657\n",
      "4591 / 7657\n",
      "5356 / 7657\n",
      "6121 / 7657\n",
      "6886 / 7657\n",
      "7651 / 7657\n"
     ]
    }
   ],
   "source": [
    "train_features, train_labels = get_multichannel_features(train_paths, params)\n",
    "test_features,  test_labels  = get_multichannel_features(test_paths, params)"
   ]
  },
  {
   "cell_type": "code",
   "execution_count": 38,
   "id": "b1703b1d",
   "metadata": {},
   "outputs": [
    {
     "data": {
      "image/png": "[encoded data removed]",
      "text/plain": [
       "<Figure size 1296x360 with 2 Axes>"
      ]
     },
     "metadata": {
      "needs_background": "light"
     },
     "output_type": "display_data"
    }
   ],
   "source": [
    "f, axes = plt.subplots(1, 2, figsize = (18,5))\n",
    "sns.set_style('darkgrid')\n",
    "sns.countplot(x = train_labels, ax=axes[0])\n",
    "lb = axes[0].get_xlabel()\n",
    "axes[0].set_xlabel(lb, fontsize=15)\n",
    "axes[0].set_title(\"Train\", size = 14)\n",
    "\n",
    "sns.set_style('darkgrid')\n",
    "sns.countplot(x = test_labels, ax=axes[1])\n",
    "lbt = axes[1].get_xlabel()\n",
    "axes[1].set_xlabel(lbt, fontsize=15)\n",
    "axes[1].set_title(\"Test\", size = 14)\n",
    "plt.suptitle(test_set.capitalize())\n",
    "\n",
    "for ax in axes:\n",
    "    for p in ax.patches:\n",
    "        #ax.annotate('{}'.format(p.get_height()), \n",
    "        #            ((p.get_x() + p.get_width() / 2., p.get_height()), ha = 'center', va = 'center',))\n",
    "        ax.annotate(format(p.get_height(), '.1f'), \n",
    "                   (p.get_x() + p.get_width() / 2., p.get_height()), \n",
    "                   ha = 'center')"
   ]
  },
  {
   "cell_type": "code",
   "execution_count": 39,
   "id": "1c810c1e",
   "metadata": {},
   "outputs": [],
   "source": [
    "train_labels_bin = [classes.index(lab) for lab in train_labels]\n",
    "test_labels_bin  = [classes.index(lab) for lab in test_labels]"
   ]
  },
  {
   "cell_type": "code",
   "execution_count": 40,
   "id": "fd90c2c7",
   "metadata": {},
   "outputs": [
    {
     "data": {
      "text/plain": [
       "30617"
      ]
     },
     "execution_count": 40,
     "metadata": {},
     "output_type": "execute_result"
    }
   ],
   "source": [
    "len(train_labels_bin)"
   ]
  },
  {
   "cell_type": "code",
   "execution_count": 41,
   "id": "801b9690",
   "metadata": {},
   "outputs": [
    {
     "data": {
      "text/plain": [
       "(30617, 260, 36, 1)"
      ]
     },
     "execution_count": 41,
     "metadata": {},
     "output_type": "execute_result"
    }
   ],
   "source": [
    "train_features.shape"
   ]
  },
  {
   "cell_type": "code",
   "execution_count": 42,
   "id": "3957b1e6",
   "metadata": {},
   "outputs": [],
   "source": [
    "train_ds   = tf.data.Dataset.from_tensor_slices((train_features, train_labels_bin))\n",
    "test_ds    = tf.data.Dataset.from_tensor_slices((test_features, test_labels_bin))\n",
    "batch_size = 128\n",
    "train_ds   = train_ds.batch(batch_size)\n",
    "test_ds    = test_ds.batch(batch_size)"
   ]
  },
  {
   "cell_type": "code",
   "execution_count": 43,
   "id": "baf7c39f",
   "metadata": {},
   "outputs": [],
   "source": [
    "input_shape = train_features.shape[1:]"
   ]
  },
  {
   "cell_type": "code",
   "execution_count": 44,
   "id": "553cd37e",
   "metadata": {},
   "outputs": [
    {
     "name": "stdout",
     "output_type": "stream",
     "text": [
      "Model: \"sequential\"\n",
      "_________________________________________________________________\n",
      "Layer (type)                 Output Shape              Param #   \n",
      "=================================================================\n",
      "conv2d (Conv2D)              (None, 258, 34, 16)       160       \n",
      "_________________________________________________________________\n",
      "max_pooling2d (MaxPooling2D) (None, 129, 17, 16)       0         \n",
      "_________________________________________________________________\n",
      "conv2d_1 (Conv2D)            (None, 127, 15, 16)       2320      \n",
      "_________________________________________________________________\n",
      "max_pooling2d_1 (MaxPooling2 (None, 63, 7, 16)         0         \n",
      "_________________________________________________________________\n",
      "flatten (Flatten)            (None, 7056)              0         \n",
      "_________________________________________________________________\n",
      "dropout (Dropout)            (None, 7056)              0         \n",
      "_________________________________________________________________\n",
      "dense (Dense)                (None, 64)                451648    \n",
      "_________________________________________________________________\n",
      "dropout_1 (Dropout)          (None, 64)                0         \n",
      "_________________________________________________________________\n",
      "dense_1 (Dense)              (None, 2)                 130       \n",
      "=================================================================\n",
      "Total params: 454,258\n",
      "Trainable params: 454,258\n",
      "Non-trainable params: 0\n",
      "_________________________________________________________________\n"
     ]
    }
   ],
   "source": [
    "small_cnn = models.Sequential([\n",
    "        layers.InputLayer(input_shape=input_shape),\n",
    "        layers.Conv2D(16, 3, activation='relu'),\n",
    "        layers.MaxPooling2D(),\n",
    "        layers.Conv2D(16, 3, activation='relu'),\n",
    "        layers.MaxPooling2D(),\n",
    "        layers.Flatten(),\n",
    "        layers.Dropout(0.5),\n",
    "        layers.Dense(64, activation='relu', kernel_regularizer=regularizers.l2(0.001)),\n",
    "        layers.Dropout(0.5),\n",
    "        layers.Dense(2, activation = 'softmax'),\n",
    "    ])\n",
    "small_cnn.summary()"
   ]
  },
  {
   "cell_type": "code",
   "execution_count": 45,
   "id": "b3124c25",
   "metadata": {},
   "outputs": [],
   "source": [
    "small_cnn.compile(\n",
    "    optimizer = tf.keras.optimizers.Adam(learning_rate=0.0001),\n",
    "    loss      = tf.keras.losses.SparseCategoricalCrossentropy(),#from_logits=True),\n",
    "    metrics   = 'accuracy',#tf.keras.metrics.SparseCategoricalAccuracy(),\n",
    ")"
   ]
  },
  {
   "cell_type": "code",
   "execution_count": 46,
   "id": "d910bdd8",
   "metadata": {},
   "outputs": [
    {
     "name": "stdout",
     "output_type": "stream",
     "text": [
      "Epoch 1/25\n",
      "240/240 [==============================] - 91s 376ms/step - loss: 0.6851 - accuracy: 0.6658 - val_loss: 0.5926 - val_accuracy: 0.7422\n",
      "Epoch 2/25\n",
      "240/240 [==============================] - 94s 392ms/step - loss: 0.5654 - accuracy: 0.7509 - val_loss: 0.5095 - val_accuracy: 0.8056\n",
      "Epoch 3/25\n",
      "240/240 [==============================] - 64s 269ms/step - loss: 0.5011 - accuracy: 0.7933 - val_loss: 0.4578 - val_accuracy: 0.8308\n",
      "Epoch 4/25\n",
      "240/240 [==============================] - 92s 385ms/step - loss: 0.4594 - accuracy: 0.8176 - val_loss: 0.4297 - val_accuracy: 0.8458\n",
      "Epoch 5/25\n",
      "240/240 [==============================] - 97s 404ms/step - loss: 0.4376 - accuracy: 0.8285 - val_loss: 0.4132 - val_accuracy: 0.8547\n",
      "Epoch 6/25\n",
      "240/240 [==============================] - 99s 413ms/step - loss: 0.4193 - accuracy: 0.8376 - val_loss: 0.3976 - val_accuracy: 0.8580\n",
      "Epoch 7/25\n",
      "240/240 [==============================] - 67s 279ms/step - loss: 0.4088 - accuracy: 0.8418 - val_loss: 0.3870 - val_accuracy: 0.8609\n",
      "Epoch 8/25\n",
      "240/240 [==============================] - 82s 343ms/step - loss: 0.4001 - accuracy: 0.8453 - val_loss: 0.3789 - val_accuracy: 0.8648\n",
      "Epoch 9/25\n",
      "240/240 [==============================] - 93s 386ms/step - loss: 0.3918 - accuracy: 0.8486 - val_loss: 0.3746 - val_accuracy: 0.8675\n",
      "Epoch 10/25\n",
      "240/240 [==============================] - 93s 387ms/step - loss: 0.3829 - accuracy: 0.8524 - val_loss: 0.3659 - val_accuracy: 0.8687\n",
      "Epoch 11/25\n",
      "240/240 [==============================] - 94s 390ms/step - loss: 0.3763 - accuracy: 0.8561 - val_loss: 0.3593 - val_accuracy: 0.8690\n",
      "Epoch 12/25\n",
      "240/240 [==============================] - 93s 389ms/step - loss: 0.3710 - accuracy: 0.8573 - val_loss: 0.3555 - val_accuracy: 0.8734\n",
      "Epoch 13/25\n",
      "240/240 [==============================] - 95s 395ms/step - loss: 0.3676 - accuracy: 0.8590 - val_loss: 0.3503 - val_accuracy: 0.8755\n",
      "Epoch 14/25\n",
      "240/240 [==============================] - 92s 384ms/step - loss: 0.3615 - accuracy: 0.8615 - val_loss: 0.3449 - val_accuracy: 0.8763\n",
      "Epoch 15/25\n",
      "240/240 [==============================] - 70s 290ms/step - loss: 0.3569 - accuracy: 0.8649 - val_loss: 0.3410 - val_accuracy: 0.8784\n",
      "Epoch 16/25\n",
      "240/240 [==============================] - 85s 353ms/step - loss: 0.3513 - accuracy: 0.8666 - val_loss: 0.3373 - val_accuracy: 0.8802\n",
      "Epoch 17/25\n",
      "240/240 [==============================] - 64s 266ms/step - loss: 0.3474 - accuracy: 0.8673 - val_loss: 0.3333 - val_accuracy: 0.8807\n",
      "Epoch 18/25\n",
      "240/240 [==============================] - 93s 388ms/step - loss: 0.3444 - accuracy: 0.8706 - val_loss: 0.3294 - val_accuracy: 0.8824\n",
      "Epoch 19/25\n",
      "240/240 [==============================] - 107s 445ms/step - loss: 0.3383 - accuracy: 0.8726 - val_loss: 0.3257 - val_accuracy: 0.8853\n",
      "Epoch 20/25\n",
      "240/240 [==============================] - 104s 434ms/step - loss: 0.3370 - accuracy: 0.8724 - val_loss: 0.3221 - val_accuracy: 0.8833\n",
      "Epoch 21/25\n",
      "240/240 [==============================] - 108s 451ms/step - loss: 0.3303 - accuracy: 0.8754 - val_loss: 0.3180 - val_accuracy: 0.8852\n",
      "Epoch 22/25\n",
      "240/240 [==============================] - 105s 436ms/step - loss: 0.3299 - accuracy: 0.8754 - val_loss: 0.3156 - val_accuracy: 0.8883\n",
      "Epoch 23/25\n",
      "240/240 [==============================] - 104s 433ms/step - loss: 0.3294 - accuracy: 0.8748 - val_loss: 0.3143 - val_accuracy: 0.8904\n",
      "Epoch 24/25\n",
      "240/240 [==============================] - 106s 441ms/step - loss: 0.3245 - accuracy: 0.8779 - val_loss: 0.3111 - val_accuracy: 0.8893\n",
      "Epoch 25/25\n",
      "235/240 [============================>.] - ETA: 1s - loss: 0.3210 - accuracy: 0.8801"
     ]
    },
    {
     "ename": "KeyboardInterrupt",
     "evalue": "",
     "output_type": "error",
     "traceback": [
      "\u001b[1;31m---------------------------------------------------------------------------\u001b[0m",
      "\u001b[1;31mKeyboardInterrupt\u001b[0m                         Traceback (most recent call last)",
      "\u001b[1;32m<ipython-input-46-9b53b2031d10>\u001b[0m in \u001b[0;36m<module>\u001b[1;34m\u001b[0m\n\u001b[0;32m      1\u001b[0m \u001b[0mEPOCHS\u001b[0m  \u001b[1;33m=\u001b[0m \u001b[1;36m25\u001b[0m\u001b[1;33m\u001b[0m\u001b[1;33m\u001b[0m\u001b[0m\n\u001b[1;32m----> 2\u001b[1;33m history = small_cnn.fit(train_ds, \n\u001b[0m\u001b[0;32m      3\u001b[0m     \u001b[0mvalidation_data\u001b[0m \u001b[1;33m=\u001b[0m \u001b[0mtest_ds\u001b[0m\u001b[1;33m,\u001b[0m\u001b[1;33m\u001b[0m\u001b[1;33m\u001b[0m\u001b[0m\n\u001b[0;32m      4\u001b[0m     \u001b[0mepochs\u001b[0m          \u001b[1;33m=\u001b[0m \u001b[0mEPOCHS\u001b[0m\u001b[1;33m,\u001b[0m\u001b[1;33m\u001b[0m\u001b[1;33m\u001b[0m\u001b[0m\n\u001b[0;32m      5\u001b[0m     \u001b[0mcallbacks\u001b[0m       \u001b[1;33m=\u001b[0m \u001b[0mtf\u001b[0m\u001b[1;33m.\u001b[0m\u001b[0mkeras\u001b[0m\u001b[1;33m.\u001b[0m\u001b[0mcallbacks\u001b[0m\u001b[1;33m.\u001b[0m\u001b[0mEarlyStopping\u001b[0m\u001b[1;33m(\u001b[0m\u001b[0mverbose\u001b[0m\u001b[1;33m=\u001b[0m\u001b[1;36m1\u001b[0m\u001b[1;33m,\u001b[0m \u001b[0mpatience\u001b[0m\u001b[1;33m=\u001b[0m\u001b[1;36m2\u001b[0m\u001b[1;33m)\u001b[0m\u001b[1;33m\u001b[0m\u001b[1;33m\u001b[0m\u001b[0m\n",
      "\u001b[1;32m~\\Anaconda3\\lib\\site-packages\\keras\\engine\\training.py\u001b[0m in \u001b[0;36mfit\u001b[1;34m(self, x, y, batch_size, epochs, verbose, callbacks, validation_split, validation_data, shuffle, class_weight, sample_weight, initial_epoch, steps_per_epoch, validation_steps, validation_batch_size, validation_freq, max_queue_size, workers, use_multiprocessing)\u001b[0m\n\u001b[0;32m   1182\u001b[0m                 _r=1):\n\u001b[0;32m   1183\u001b[0m               \u001b[0mcallbacks\u001b[0m\u001b[1;33m.\u001b[0m\u001b[0mon_train_batch_begin\u001b[0m\u001b[1;33m(\u001b[0m\u001b[0mstep\u001b[0m\u001b[1;33m)\u001b[0m\u001b[1;33m\u001b[0m\u001b[1;33m\u001b[0m\u001b[0m\n\u001b[1;32m-> 1184\u001b[1;33m               \u001b[0mtmp_logs\u001b[0m \u001b[1;33m=\u001b[0m \u001b[0mself\u001b[0m\u001b[1;33m.\u001b[0m\u001b[0mtrain_function\u001b[0m\u001b[1;33m(\u001b[0m\u001b[0miterator\u001b[0m\u001b[1;33m)\u001b[0m\u001b[1;33m\u001b[0m\u001b[1;33m\u001b[0m\u001b[0m\n\u001b[0m\u001b[0;32m   1185\u001b[0m               \u001b[1;32mif\u001b[0m \u001b[0mdata_handler\u001b[0m\u001b[1;33m.\u001b[0m\u001b[0mshould_sync\u001b[0m\u001b[1;33m:\u001b[0m\u001b[1;33m\u001b[0m\u001b[1;33m\u001b[0m\u001b[0m\n\u001b[0;32m   1186\u001b[0m                 \u001b[0mcontext\u001b[0m\u001b[1;33m.\u001b[0m\u001b[0masync_wait\u001b[0m\u001b[1;33m(\u001b[0m\u001b[1;33m)\u001b[0m\u001b[1;33m\u001b[0m\u001b[1;33m\u001b[0m\u001b[0m\n",
      "\u001b[1;32m~\\Anaconda3\\lib\\site-packages\\tensorflow\\python\\eager\\def_function.py\u001b[0m in \u001b[0;36m__call__\u001b[1;34m(self, *args, **kwds)\u001b[0m\n\u001b[0;32m    883\u001b[0m \u001b[1;33m\u001b[0m\u001b[0m\n\u001b[0;32m    884\u001b[0m       \u001b[1;32mwith\u001b[0m \u001b[0mOptionalXlaContext\u001b[0m\u001b[1;33m(\u001b[0m\u001b[0mself\u001b[0m\u001b[1;33m.\u001b[0m\u001b[0m_jit_compile\u001b[0m\u001b[1;33m)\u001b[0m\u001b[1;33m:\u001b[0m\u001b[1;33m\u001b[0m\u001b[1;33m\u001b[0m\u001b[0m\n\u001b[1;32m--> 885\u001b[1;33m         \u001b[0mresult\u001b[0m \u001b[1;33m=\u001b[0m \u001b[0mself\u001b[0m\u001b[1;33m.\u001b[0m\u001b[0m_call\u001b[0m\u001b[1;33m(\u001b[0m\u001b[1;33m*\u001b[0m\u001b[0margs\u001b[0m\u001b[1;33m,\u001b[0m \u001b[1;33m**\u001b[0m\u001b[0mkwds\u001b[0m\u001b[1;33m)\u001b[0m\u001b[1;33m\u001b[0m\u001b[1;33m\u001b[0m\u001b[0m\n\u001b[0m\u001b[0;32m    886\u001b[0m \u001b[1;33m\u001b[0m\u001b[0m\n\u001b[0;32m    887\u001b[0m       \u001b[0mnew_tracing_count\u001b[0m \u001b[1;33m=\u001b[0m \u001b[0mself\u001b[0m\u001b[1;33m.\u001b[0m\u001b[0mexperimental_get_tracing_count\u001b[0m\u001b[1;33m(\u001b[0m\u001b[1;33m)\u001b[0m\u001b[1;33m\u001b[0m\u001b[1;33m\u001b[0m\u001b[0m\n",
      "\u001b[1;32m~\\Anaconda3\\lib\\site-packages\\tensorflow\\python\\eager\\def_function.py\u001b[0m in \u001b[0;36m_call\u001b[1;34m(self, *args, **kwds)\u001b[0m\n\u001b[0;32m    915\u001b[0m       \u001b[1;31m# In this case we have created variables on the first call, so we run the\u001b[0m\u001b[1;33m\u001b[0m\u001b[1;33m\u001b[0m\u001b[1;33m\u001b[0m\u001b[0m\n\u001b[0;32m    916\u001b[0m       \u001b[1;31m# defunned version which is guaranteed to never create variables.\u001b[0m\u001b[1;33m\u001b[0m\u001b[1;33m\u001b[0m\u001b[1;33m\u001b[0m\u001b[0m\n\u001b[1;32m--> 917\u001b[1;33m       \u001b[1;32mreturn\u001b[0m \u001b[0mself\u001b[0m\u001b[1;33m.\u001b[0m\u001b[0m_stateless_fn\u001b[0m\u001b[1;33m(\u001b[0m\u001b[1;33m*\u001b[0m\u001b[0margs\u001b[0m\u001b[1;33m,\u001b[0m \u001b[1;33m**\u001b[0m\u001b[0mkwds\u001b[0m\u001b[1;33m)\u001b[0m  \u001b[1;31m# pylint: disable=not-callable\u001b[0m\u001b[1;33m\u001b[0m\u001b[1;33m\u001b[0m\u001b[0m\n\u001b[0m\u001b[0;32m    918\u001b[0m     \u001b[1;32melif\u001b[0m \u001b[0mself\u001b[0m\u001b[1;33m.\u001b[0m\u001b[0m_stateful_fn\u001b[0m \u001b[1;32mis\u001b[0m \u001b[1;32mnot\u001b[0m \u001b[1;32mNone\u001b[0m\u001b[1;33m:\u001b[0m\u001b[1;33m\u001b[0m\u001b[1;33m\u001b[0m\u001b[0m\n\u001b[0;32m    919\u001b[0m       \u001b[1;31m# Release the lock early so that multiple threads can perform the call\u001b[0m\u001b[1;33m\u001b[0m\u001b[1;33m\u001b[0m\u001b[1;33m\u001b[0m\u001b[0m\n",
      "\u001b[1;32m~\\Anaconda3\\lib\\site-packages\\tensorflow\\python\\eager\\function.py\u001b[0m in \u001b[0;36m__call__\u001b[1;34m(self, *args, **kwargs)\u001b[0m\n\u001b[0;32m   3037\u001b[0m       (graph_function,\n\u001b[0;32m   3038\u001b[0m        filtered_flat_args) = self._maybe_define_function(args, kwargs)\n\u001b[1;32m-> 3039\u001b[1;33m     return graph_function._call_flat(\n\u001b[0m\u001b[0;32m   3040\u001b[0m         filtered_flat_args, captured_inputs=graph_function.captured_inputs)  # pylint: disable=protected-access\n\u001b[0;32m   3041\u001b[0m \u001b[1;33m\u001b[0m\u001b[0m\n",
      "\u001b[1;32m~\\Anaconda3\\lib\\site-packages\\tensorflow\\python\\eager\\function.py\u001b[0m in \u001b[0;36m_call_flat\u001b[1;34m(self, args, captured_inputs, cancellation_manager)\u001b[0m\n\u001b[0;32m   1961\u001b[0m         and executing_eagerly):\n\u001b[0;32m   1962\u001b[0m       \u001b[1;31m# No tape is watching; skip to running the function.\u001b[0m\u001b[1;33m\u001b[0m\u001b[1;33m\u001b[0m\u001b[1;33m\u001b[0m\u001b[0m\n\u001b[1;32m-> 1963\u001b[1;33m       return self._build_call_outputs(self._inference_function.call(\n\u001b[0m\u001b[0;32m   1964\u001b[0m           ctx, args, cancellation_manager=cancellation_manager))\n\u001b[0;32m   1965\u001b[0m     forward_backward = self._select_forward_and_backward_functions(\n",
      "\u001b[1;32m~\\Anaconda3\\lib\\site-packages\\tensorflow\\python\\eager\\function.py\u001b[0m in \u001b[0;36mcall\u001b[1;34m(self, ctx, args, cancellation_manager)\u001b[0m\n\u001b[0;32m    589\u001b[0m       \u001b[1;32mwith\u001b[0m \u001b[0m_InterpolateFunctionError\u001b[0m\u001b[1;33m(\u001b[0m\u001b[0mself\u001b[0m\u001b[1;33m)\u001b[0m\u001b[1;33m:\u001b[0m\u001b[1;33m\u001b[0m\u001b[1;33m\u001b[0m\u001b[0m\n\u001b[0;32m    590\u001b[0m         \u001b[1;32mif\u001b[0m \u001b[0mcancellation_manager\u001b[0m \u001b[1;32mis\u001b[0m \u001b[1;32mNone\u001b[0m\u001b[1;33m:\u001b[0m\u001b[1;33m\u001b[0m\u001b[1;33m\u001b[0m\u001b[0m\n\u001b[1;32m--> 591\u001b[1;33m           outputs = execute.execute(\n\u001b[0m\u001b[0;32m    592\u001b[0m               \u001b[0mstr\u001b[0m\u001b[1;33m(\u001b[0m\u001b[0mself\u001b[0m\u001b[1;33m.\u001b[0m\u001b[0msignature\u001b[0m\u001b[1;33m.\u001b[0m\u001b[0mname\u001b[0m\u001b[1;33m)\u001b[0m\u001b[1;33m,\u001b[0m\u001b[1;33m\u001b[0m\u001b[1;33m\u001b[0m\u001b[0m\n\u001b[0;32m    593\u001b[0m               \u001b[0mnum_outputs\u001b[0m\u001b[1;33m=\u001b[0m\u001b[0mself\u001b[0m\u001b[1;33m.\u001b[0m\u001b[0m_num_outputs\u001b[0m\u001b[1;33m,\u001b[0m\u001b[1;33m\u001b[0m\u001b[1;33m\u001b[0m\u001b[0m\n",
      "\u001b[1;32m~\\Anaconda3\\lib\\site-packages\\tensorflow\\python\\eager\\execute.py\u001b[0m in \u001b[0;36mquick_execute\u001b[1;34m(op_name, num_outputs, inputs, attrs, ctx, name)\u001b[0m\n\u001b[0;32m     57\u001b[0m   \u001b[1;32mtry\u001b[0m\u001b[1;33m:\u001b[0m\u001b[1;33m\u001b[0m\u001b[1;33m\u001b[0m\u001b[0m\n\u001b[0;32m     58\u001b[0m     \u001b[0mctx\u001b[0m\u001b[1;33m.\u001b[0m\u001b[0mensure_initialized\u001b[0m\u001b[1;33m(\u001b[0m\u001b[1;33m)\u001b[0m\u001b[1;33m\u001b[0m\u001b[1;33m\u001b[0m\u001b[0m\n\u001b[1;32m---> 59\u001b[1;33m     tensors = pywrap_tfe.TFE_Py_Execute(ctx._handle, device_name, op_name,\n\u001b[0m\u001b[0;32m     60\u001b[0m                                         inputs, attrs, num_outputs)\n\u001b[0;32m     61\u001b[0m   \u001b[1;32mexcept\u001b[0m \u001b[0mcore\u001b[0m\u001b[1;33m.\u001b[0m\u001b[0m_NotOkStatusException\u001b[0m \u001b[1;32mas\u001b[0m \u001b[0me\u001b[0m\u001b[1;33m:\u001b[0m\u001b[1;33m\u001b[0m\u001b[1;33m\u001b[0m\u001b[0m\n",
      "\u001b[1;31mKeyboardInterrupt\u001b[0m: "
     ]
    }
   ],
   "source": [
    "EPOCHS  = 25\n",
    "history = small_cnn.fit(train_ds, \n",
    "    validation_data = test_ds,  \n",
    "    epochs          = EPOCHS,\n",
    "    callbacks       = tf.keras.callbacks.EarlyStopping(verbose=1, patience=2)\n",
    ")"
   ]
  },
  {
   "cell_type": "code",
   "execution_count": null,
   "id": "1fac6d8e",
   "metadata": {},
   "outputs": [],
   "source": [
    "metrics = history.history"
   ]
  },
  {
   "cell_type": "code",
   "execution_count": null,
   "id": "3f3f767b",
   "metadata": {},
   "outputs": [],
   "source": [
    "plt.plot(history.epoch, metrics['loss'], metrics['val_loss'])\n",
    "plt.legend(['loss', 'val_loss'])\n",
    "plt.show()\n",
    "\n",
    "plt.plot(history.epoch, metrics['accuracy'], metrics['val_accuracy'])\n",
    "plt.legend(['accuracy', 'val_accuracy'])\n",
    "plt.show()"
   ]
  },
  {
   "cell_type": "code",
   "execution_count": null,
   "id": "0f460572",
   "metadata": {},
   "outputs": [],
   "source": [
    "from datetime import datetime"
   ]
  },
  {
   "cell_type": "code",
   "execution_count": null,
   "id": "47dbac91",
   "metadata": {},
   "outputs": [],
   "source": [
    "model_name = datetime.now().strftime(\"%Y%m%d-%H%M%S\").replace('-', '_')+'_'+test_set+'_shallow_net.h5'"
   ]
  },
  {
   "cell_type": "code",
   "execution_count": null,
   "id": "f722ae0b",
   "metadata": {},
   "outputs": [],
   "source": [
    "small_cnn.save(model_name)"
   ]
  },
  {
   "cell_type": "code",
   "execution_count": null,
   "id": "b0ad7da4",
   "metadata": {},
   "outputs": [],
   "source": [
    "small_cnn.evaluate(test_ds)"
   ]
  },
  {
   "cell_type": "code",
   "execution_count": null,
   "id": "d7b8e656",
   "metadata": {},
   "outputs": [],
   "source": [
    "#need to chop off top of cnn to work with different number of input channels\n",
    "choices = ['AbsRe', 'AbsIm']"
   ]
  },
  {
   "cell_type": "code",
   "execution_count": null,
   "id": "9a21551b",
   "metadata": {},
   "outputs": [],
   "source": [
    "train_features_mult, train_labels_mult = get_multichannel_features(train_paths, params, choices=choices)\n",
    "test_features_mult,  test_labels_mult  = get_multichannel_features(test_paths,  params, choices=choices)"
   ]
  },
  {
   "cell_type": "code",
   "execution_count": null,
   "id": "5e03f08d",
   "metadata": {},
   "outputs": [],
   "source": [
    "train_labels_mult_bin = [classes.index(lab) for lab in train_labels_mult]\n",
    "test_labels_mult_bin  = [classes.index(lab) for lab in test_labels_mult]"
   ]
  },
  {
   "cell_type": "code",
   "execution_count": null,
   "id": "606f84c1",
   "metadata": {},
   "outputs": [],
   "source": [
    "train_ds_mult   = tf.data.Dataset.from_tensor_slices((train_features_mult, train_labels_mult_bin))\n",
    "test_ds_mult    = tf.data.Dataset.from_tensor_slices((test_features_mult, test_labels_mult_bin))\n",
    "batch_size      = 128\n",
    "train_ds_mult   = train_ds_mult.batch(batch_size)\n",
    "test_ds_mult    = test_ds_mult.batch(batch_size)"
   ]
  },
  {
   "cell_type": "code",
   "execution_count": null,
   "id": "8b2696e0",
   "metadata": {},
   "outputs": [],
   "source": [
    "small_cnn_config = small_cnn.get_config()\n",
    "tf_shape = train_features_mult.shape[1:]\n",
    "small_cnn_config[\"layers\"][0][\"config\"][\"batch_input_shape\"] = (None, tf_shape[0], tf_shape[1], tf_shape[2])"
   ]
  },
  {
   "cell_type": "markdown",
   "id": "5bfd8271",
   "metadata": {},
   "source": [
    "This model will be the trained with the parameters from the small_cnn model, but the weights in the first conv layer are copied multiple times to match channels/dimensions"
   ]
  },
  {
   "cell_type": "code",
   "execution_count": null,
   "id": "4426d7bc",
   "metadata": {},
   "outputs": [],
   "source": [
    "small_cnn_mult = tf.keras.Sequential.from_config(small_cnn_config)"
   ]
  },
  {
   "cell_type": "code",
   "execution_count": null,
   "id": "9bbb4011",
   "metadata": {},
   "outputs": [],
   "source": [
    "small_cnn_mult.summary()"
   ]
  },
  {
   "cell_type": "code",
   "execution_count": null,
   "id": "b1389ffb",
   "metadata": {},
   "outputs": [],
   "source": [
    "#need to copy the weights from other model\n",
    "#from https://towardsdatascience.com/implementing-transfer-learning-from-rgb-to-multi-channel-imagery-f87924679166\n",
    "# Expand weights dimension to match new input channels\n",
    "def multify_weights(kernel, out_channels):\n",
    "    mean_1d = np.mean(kernel, axis=-2).reshape(kernel[:,:,-1:,:].shape)\n",
    "    tiled   = np.tile(mean_1d, (out_channels, 1))\n",
    "    return(tiled)\n",
    "\n",
    "\n",
    "# Loop through layers of both original model \n",
    "# and custom model and copy over weights \n",
    "# layer_modify refers to first convolutional layer\n",
    "def copy_weights_tl(model_orig, custom_model, layer_modify):\n",
    "    layer_to_modify = [layer_modify]\n",
    "\n",
    "    conf = custom_model.get_config()\n",
    "    layer_names   = [conf['layers'][x]['config']['name'] for x in range(len(conf['layers']))]\n",
    "    input_channel = conf[\"layers\"][0][\"config\"][\"batch_input_shape\"][-1]\n",
    "    #old_input_channel = model_orig.get_config()[\"layers\"][0][\"config\"][\"batch_input_shape\"][-1]\n",
    "\n",
    "    for layer in model_orig.layers:\n",
    "        if layer.name in layer_names:\n",
    "            if layer.get_weights() != []:\n",
    "                target_layer = custom_model.get_layer(layer.name)\n",
    "\n",
    "                if layer.name in layer_to_modify:    \n",
    "                    kernels = layer.get_weights()[0]\n",
    "                    biases  = layer.get_weights()[1]\n",
    "            \n",
    "                    kernels_extra_channel = multify_weights(kernels, input_channel)\n",
    "                    #print('kernels_extra_channel', kernels_extra_channel.shape)                                \n",
    "                    target_layer.set_weights([kernels_extra_channel, biases])\n",
    "                    target_layer.trainable = False\n",
    "\n",
    "                else:\n",
    "                    target_layer.set_weights(layer.get_weights())\n",
    "                    target_layer.trainable = False"
   ]
  },
  {
   "cell_type": "code",
   "execution_count": null,
   "id": "12925de7",
   "metadata": {},
   "outputs": [],
   "source": [
    "copy_weights_tl(small_cnn, small_cnn_mult, small_cnn_config[\"layers\"][1]['config']['name'])"
   ]
  },
  {
   "cell_type": "code",
   "execution_count": null,
   "id": "a4eedd59",
   "metadata": {},
   "outputs": [],
   "source": [
    "small_cnn_mult.compile(\n",
    "    optimizer = tf.keras.optimizers.Adam(learning_rate=0.0001),\n",
    "    loss      = tf.keras.losses.SparseCategoricalCrossentropy(),#from_logits=True),\n",
    "    metrics   = 'accuracy',#tf.keras.metrics.SparseCategoricalAccuracy(),\n",
    ")"
   ]
  },
  {
   "cell_type": "code",
   "execution_count": null,
   "id": "0fdda10d",
   "metadata": {},
   "outputs": [],
   "source": [
    "small_cnn_mult.evaluate(test_ds_mult)"
   ]
  },
  {
   "cell_type": "code",
   "execution_count": null,
   "id": "305fa4a5",
   "metadata": {},
   "outputs": [],
   "source": [
    "EPOCHS  = 5\n",
    "history = small_cnn_mult.fit(train_ds_mult, \n",
    "    validation_data = test_ds_mult,  \n",
    "    epochs          = EPOCHS\n",
    ")"
   ]
  },
  {
   "cell_type": "code",
   "execution_count": null,
   "id": "9890b312",
   "metadata": {},
   "outputs": [],
   "source": [
    "model_name = datetime.now().strftime(\"%Y%m%d-%H%M%S\").replace('-', '_')+'_'+test_set+'_shallow_net_'+''.join(choices)+'.h5'\n",
    "small_cnn_mult.save(model_name)"
   ]
  },
  {
   "cell_type": "code",
   "execution_count": null,
   "id": "80e12ef6",
   "metadata": {},
   "outputs": [],
   "source": [
    "small_cnn_mult_fresh = tf.keras.Sequential.from_config(small_cnn_config)"
   ]
  },
  {
   "cell_type": "code",
   "execution_count": null,
   "id": "a5da4edb",
   "metadata": {},
   "outputs": [],
   "source": [
    "small_cnn_mult_fresh.compile(\n",
    "    optimizer = tf.keras.optimizers.Adam(learning_rate=0.0001),\n",
    "    loss      = tf.keras.losses.SparseCategoricalCrossentropy(),#from_logits=True),\n",
    "    metrics   = 'accuracy',#tf.keras.metrics.SparseCategoricalAccuracy(),\n",
    ")"
   ]
  },
  {
   "cell_type": "code",
   "execution_count": null,
   "id": "85c34efe",
   "metadata": {},
   "outputs": [],
   "source": [
    "small_cnn_mult_fresh.evaluate(test_ds_mult)"
   ]
  },
  {
   "cell_type": "code",
   "execution_count": null,
   "id": "68d55323",
   "metadata": {},
   "outputs": [],
   "source": [
    "EPOCHS  = 25\n",
    "history = small_cnn_mult_fresh.fit(train_ds_mult, \n",
    "    validation_data = test_ds_mult,  \n",
    "    epochs          = EPOCHS,\n",
    "    callbacks       = tf.keras.callbacks.EarlyStopping(verbose=1, patience=2)\n",
    ")"
   ]
  },
  {
   "cell_type": "code",
   "execution_count": null,
   "id": "874c736f",
   "metadata": {},
   "outputs": [],
   "source": [
    "model_name = datetime.now().strftime(\"%Y%m%d-%H%M%S\").replace('-', '_')+'_'+test_set+'_shallow_net_'+''.join(choices)+'_fresh.h5'\n",
    "small_cnn_mult.save(model_name)"
   ]
  },
  {
   "cell_type": "code",
   "execution_count": null,
   "id": "c28fd56b",
   "metadata": {},
   "outputs": [],
   "source": [
    "#Trained on multiple channels, evaluate on one channel"
   ]
  },
  {
   "cell_type": "code",
   "execution_count": null,
   "id": "eb16310b",
   "metadata": {},
   "outputs": [],
   "source": [
    "small_cnn_mult_config = small_cnn_mult.get_config()\n",
    "tf_shape = train_features.shape[1:]\n",
    "small_cnn_mult_config[\"layers\"][0][\"config\"][\"batch_input_shape\"] = (None, tf_shape[0], tf_shape[1], tf_shape[2])\n",
    "small_cnn_mult_single = tf.keras.Sequential.from_config(small_cnn_mult_config)\n",
    "copy_weights_tl(small_cnn_mult, small_cnn_mult_single, small_cnn_mult_config[\"layers\"][1]['config']['name'])"
   ]
  },
  {
   "cell_type": "code",
   "execution_count": null,
   "id": "6064a633",
   "metadata": {},
   "outputs": [],
   "source": [
    "small_cnn_mult_single.compile(\n",
    "    optimizer = tf.keras.optimizers.Adam(learning_rate=0.0001),\n",
    "    loss      = tf.keras.losses.SparseCategoricalCrossentropy(),#from_logits=True),\n",
    "    metrics   = 'accuracy',#tf.keras.metrics.SparseCategoricalAccuracy(),\n",
    ")"
   ]
  },
  {
   "cell_type": "code",
   "execution_count": null,
   "id": "c3f2aafb",
   "metadata": {},
   "outputs": [],
   "source": [
    "small_cnn_mult_single.evaluate(test_ds)"
   ]
  },
  {
   "cell_type": "code",
   "execution_count": null,
   "id": "3e8e70e3",
   "metadata": {},
   "outputs": [],
   "source": [
    "EPOCHS  = 5\n",
    "history = small_cnn_mult_single.fit(train_ds, \n",
    "    validation_data = test_ds,  \n",
    "    epochs          = EPOCHS\n",
    ")"
   ]
  },
  {
   "cell_type": "code",
   "execution_count": null,
   "id": "471946f1",
   "metadata": {},
   "outputs": [],
   "source": [
    "model_name = datetime.now().strftime(\"%Y%m%d-%H%M%S\").replace('-', '_')+'_'+test_set+'_shallow_net_'+''.join(choices)+'_mult_single.h5'\n",
    "small_cnn_mult.save(model_name)"
   ]
  },
  {
   "cell_type": "markdown",
   "id": "6e7ad4b4",
   "metadata": {},
   "source": [
    "\n",
    "Test the following:\n",
    "- multichannel evaluated on pre-trained single channel model\n",
    "- multichannel trained for a small number of epochs on  pre-trained single channel model\n",
    "- multichannel trained from scratch\n",
    "\n",
    "Test the following:\n",
    "    \n",
    "- single channel evaluated on pre-trained multichannel model \n",
    "- single channel trained for a small number of epochs on  pre-trained multichannel model \n",
    "- single channel trained from scratch "
   ]
  }
 ],
 "metadata": {
  "kernelspec": {
   "display_name": "Python 3",
   "language": "python",
   "name": "python3"
  },
  "language_info": {
   "codemirror_mode": {
    "name": "ipython",
    "version": 3
   },
   "file_extension": ".py",
   "mimetype": "text/x-python",
   "name": "python",
   "nbconvert_exporter": "python",
   "pygments_lexer": "ipython3",
   "version": "3.8.8"
  }
 },
 "nbformat": 4,
 "nbformat_minor": 5
}
