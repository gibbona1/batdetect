{
 "cells": [
  {
   "cell_type": "code",
   "execution_count": 22,
   "id": "37b25483",
   "metadata": {},
   "outputs": [],
   "source": [
    "import os\n",
    "import numpy as np\n",
    "import joblib\n",
    "\n",
    "import matplotlib.pyplot as plt\n",
    "import seaborn as sns\n",
    "import plotly.graph_objs as go\n",
    "\n",
    "import pickle\n",
    "import tensorflow as tf\n",
    "from tensorflow.keras import layers, models, regularizers\n",
    "\n",
    "from sklearn.ensemble import RandomForestClassifier\n",
    "from sklearn.metrics import roc_curve, roc_auc_score, confusion_matrix\n",
    "import scipy.ndimage.morphology as morph\n",
    "from scipy.ndimage.filters import median_filter\n",
    "import scipy.ndimage\n",
    "from skimage.measure import regionprops\n",
    "import pandas as pd\n",
    "\n",
    "#import bat_train.evaluate as evl\n",
    "from scipy.io import wavfile\n",
    "#from helper_fns import *"
   ]
  },
  {
   "cell_type": "code",
   "execution_count": 3,
   "id": "31159c7a",
   "metadata": {},
   "outputs": [
    {
     "name": "stdout",
     "output_type": "stream",
     "text": [
      "test set: norfolk\n"
     ]
    }
   ],
   "source": [
    "test_set      = 'norfolk'  # can be one of: bulgaria, uk, norfolk\n",
    "data_set      = 'bat_train/data/train_test_split/test_set_' + test_set + '.npz'\n",
    "raw_audio_dir = 'bat_train/data/wav/'\n",
    "clip_audio_dir= 'bat_train/data/wav_clips/'\n",
    "base_line_dir = 'bat_train/data/baselines/'\n",
    "result_dir    = 'bat_train/results/'\n",
    "model_dir     = 'bat_train/data/models/'\n",
    "if not os.path.isdir(result_dir):\n",
    "    os.mkdir(result_dir)\n",
    "if not os.path.isdir(model_dir):\n",
    "    os.mkdir(model_dir)\n",
    "print('test set:', test_set)\n",
    "plt.close('all')"
   ]
  },
  {
   "cell_type": "code",
   "execution_count": 4,
   "id": "ecdbafe2",
   "metadata": {},
   "outputs": [],
   "source": [
    "classes = ['not_bat', 'bat']"
   ]
  },
  {
   "cell_type": "code",
   "execution_count": 6,
   "id": "0e442cbe",
   "metadata": {},
   "outputs": [],
   "source": [
    "#os.listdir(clip_audio_dir+test_set)\n",
    "non_bat_dir = clip_audio_dir+test_set+'/'+classes[0]+'/'\n",
    "bat_dir     = clip_audio_dir+test_set+'/'+classes[1]+'/'"
   ]
  },
  {
   "cell_type": "code",
   "execution_count": 7,
   "id": "a5642bac",
   "metadata": {},
   "outputs": [],
   "source": [
    "bat_paths     = [bat_dir + fn for fn in os.listdir(bat_dir)]\n",
    "non_bat_paths = [non_bat_dir + fn for fn in os.listdir(non_bat_dir)]"
   ]
  },
  {
   "cell_type": "code",
   "execution_count": 8,
   "id": "321a63a2",
   "metadata": {},
   "outputs": [],
   "source": [
    "from random import shuffle"
   ]
  },
  {
   "cell_type": "code",
   "execution_count": 9,
   "id": "aaa400db",
   "metadata": {},
   "outputs": [],
   "source": [
    "shuffle(bat_paths)\n",
    "shuffle(non_bat_paths)"
   ]
  },
  {
   "cell_type": "code",
   "execution_count": 10,
   "id": "af384943",
   "metadata": {},
   "outputs": [],
   "source": [
    "train_perc = 0.8\n",
    "bat_cutoff = int(train_perc*len(bat_paths))\n",
    "non_bat_cutoff = int(train_perc*len(non_bat_paths))"
   ]
  },
  {
   "cell_type": "code",
   "execution_count": 11,
   "id": "a6b828b6",
   "metadata": {},
   "outputs": [],
   "source": [
    "train_paths = bat_paths[:bat_cutoff]\n",
    "train_paths.extend(non_bat_paths[:non_bat_cutoff])\n",
    "test_paths = bat_paths[bat_cutoff:]\n",
    "test_paths.extend(non_bat_paths[non_bat_cutoff:])"
   ]
  },
  {
   "cell_type": "code",
   "execution_count": 12,
   "id": "6404e70a",
   "metadata": {},
   "outputs": [],
   "source": [
    "shuffle(train_paths)\n",
    "shuffle(test_paths)"
   ]
  },
  {
   "cell_type": "code",
   "execution_count": 13,
   "id": "a1eda3c3",
   "metadata": {},
   "outputs": [],
   "source": [
    "#TODO: define functions that get the different channels, e.g. regular spectrogram, real, im, arg, harmonics"
   ]
  },
  {
   "cell_type": "code",
   "execution_count": 14,
   "id": "dcbd6abf",
   "metadata": {},
   "outputs": [],
   "source": [
    "from bat_train.data_set_params import DataSetParams"
   ]
  },
  {
   "cell_type": "code",
   "execution_count": 15,
   "id": "4b23ead8",
   "metadata": {},
   "outputs": [],
   "source": [
    "params = DataSetParams()"
   ]
  },
  {
   "cell_type": "code",
   "execution_count": 16,
   "id": "3972e925",
   "metadata": {},
   "outputs": [],
   "source": [
    "def gen_complex_spec(audio_samp, samp_rate, params):\n",
    "    nfft     = int(params.fft_win_length*samp_rate)\n",
    "    noverlap = int(params.fft_overlap*nfft)\n",
    "\n",
    "    # window data\n",
    "    step    = nfft - noverlap\n",
    "    #print(step)\n",
    "    shape   = (nfft, (audio_samp.shape[-1]-noverlap)//step)\n",
    "    strides = (audio_samp.strides[0], step*audio_samp.strides[0])\n",
    "    x_wins  = np.lib.stride_tricks.as_strided(audio_samp, shape=shape, strides=strides)\n",
    "    x_wins_han = np.hanning(x_wins.shape[0])[..., np.newaxis] * x_wins\n",
    "    \n",
    "    # do fft\n",
    "    # note this will be much slower if x_wins_han.shape[0] is not a power of 2\n",
    "    complex_spec = np.fft.rfft(x_wins_han, axis=0)\n",
    "    return complex_spec"
   ]
  },
  {
   "cell_type": "code",
   "execution_count": 17,
   "id": "ea2aea74",
   "metadata": {},
   "outputs": [],
   "source": [
    "def multi_spec_stack(complex_spec, choices = ['Mod']):\n",
    "    #possible components:\n",
    "    ##Mod    modulus/absolute value (regular)\n",
    "    ##Re     real component\n",
    "    ##AbsRe  abs(real component)\n",
    "    ##Im     imaginary component\n",
    "    ##AbsIm  abs(imaginary component)\n",
    "    ##Ang    angular componant\n",
    "    ##AbsAng abs(angular componant)\n",
    "    spec_arr = []\n",
    "    for c in choices:\n",
    "        def apply_func(x,c):\n",
    "            if c == 'Mod':\n",
    "                return tf.math.abs(x)\n",
    "            if c == 'Re':\n",
    "                return tf.math.real(x)\n",
    "            if c == 'AbsRe':\n",
    "                return tf.math.abs(tf.math.real(x))\n",
    "            if c == 'Im':\n",
    "                return tf.math.imag(x)\n",
    "            if c == 'AbsIm':\n",
    "                return tf.math.abs(tf.math.imag(x))\n",
    "            if c == 'Ang':\n",
    "                return tf.math.ang(x)\n",
    "            if c == 'AbsAng':\n",
    "                return tf.math.abs(tf.math.imag(x))\n",
    "        spec_arr.append(apply_func(complex_spec,c))\n",
    "    return np.stack(spec_arr,-1)"
   ]
  },
  {
   "cell_type": "code",
   "execution_count": 18,
   "id": "9358dae5",
   "metadata": {},
   "outputs": [],
   "source": [
    "def multi_spec_post(spec, samp_rate):\n",
    "    spec = spec[1:, :, :]\n",
    "    spec = np.flipud(spec)\n",
    "    # only keep the relevant bands - could do this outside\n",
    "    if params.crop_spec:\n",
    "        spec = spec[-params.max_freq:-params.min_freq, :, :]\n",
    "    \n",
    "        # add some zeros if too small\n",
    "        req_height = params.max_freq-params.min_freq\n",
    "        if spec.shape[0] < req_height:\n",
    "            zero_pad = np.zeros((req_height-spec.shape[0], spec.shape[1], spec.shape[2]))\n",
    "            spec     = np.vstack((zero_pad, spec))\n",
    "\n",
    "    # perform log scaling - here the same as matplotlib\n",
    "    log_scaling = 2.0 * (1.0 / samp_rate) * (1.0/(np.abs(np.hanning(int(params.fft_win_length*samp_rate)))**2).sum())\n",
    "    spec        = np.log(1.0 + log_scaling*spec)\n",
    "    def spec_normalize(x, axis = (0,1), kd = True):\n",
    "        return (x- x.min(axis=axis, keepdims=kd))/(x.max(axis=axis, keepdims=kd) - x.min(axis=axis, keepdims=kd))\n",
    "    spec = spec_normalize(spec)\n",
    "    return(spec)"
   ]
  },
  {
   "cell_type": "code",
   "execution_count": 19,
   "id": "d31f4bdb",
   "metadata": {},
   "outputs": [],
   "source": [
    "spec_shape = (260, 36, 1)"
   ]
  },
  {
   "cell_type": "code",
   "execution_count": 84,
   "id": "602c1457",
   "metadata": {},
   "outputs": [],
   "source": [
    "def get_multichannel_features(paths, params, choices = ['Mod']):\n",
    "    feats = []\n",
    "    labels = []\n",
    "    count = 0\n",
    "    ndiv = len(paths) // 10\n",
    "    spec_shape = (260, 36, len(choices))\n",
    "    for file_name in paths:\n",
    "        #print(file_name)\n",
    "        if count % ndiv == 0:\n",
    "            print(count+1, '/', len(paths))\n",
    "        count = count + 1\n",
    "        samp_rate, audio_samp = wavfile.read(file_name)\n",
    "        #print('samp_rate:',samp_rate)\n",
    "        #print('len(audio_samp):', len(audio_samp))\n",
    "        if len(audio_samp)/samp_rate < 0.1:\n",
    "            #os.remove(file_name)\n",
    "            continue \n",
    "        labels.append(file_name.split('/')[-2])\n",
    "        complex_spec = gen_complex_spec(audio_samp, samp_rate, params)\n",
    "        multi_spec = multi_spec_stack(complex_spec, choices)\n",
    "        multi_spec = multi_spec_post(multi_spec, samp_rate)\n",
    "        if multi_spec.shape[1] < spec_shape[1]:\n",
    "            #print('1',multi_spec.shape)\n",
    "            zero_pad = np.zeros((spec_shape[0], spec_shape[1] - multi_spec.shape[1], spec_shape[2]))\n",
    "            multi_spec = np.hstack((multi_spec, zero_pad))\n",
    "            #print('2',multi_spec.shape)\n",
    "        feats.append(multi_spec)\n",
    "    #print([fts.shape for fts in feats])\n",
    "    features = np.stack(feats, axis=0)\n",
    "    #features = np.squeeze(features)\n",
    "    return features, labels"
   ]
  },
  {
   "cell_type": "code",
   "execution_count": 24,
   "id": "aa057830",
   "metadata": {},
   "outputs": [
    {
     "name": "stdout",
     "output_type": "stream",
     "text": [
      "1 / 29344\n",
      "2935 / 29344\n",
      "5869 / 29344\n",
      "8803 / 29344\n",
      "11737 / 29344\n",
      "14671 / 29344\n",
      "17605 / 29344\n",
      "20539 / 29344\n",
      "23473 / 29344\n",
      "26407 / 29344\n",
      "29341 / 29344\n",
      "1 / 7336\n",
      "734 / 7336\n",
      "1467 / 7336\n",
      "2200 / 7336\n",
      "2933 / 7336\n",
      "3666 / 7336\n",
      "4399 / 7336\n",
      "5132 / 7336\n",
      "5865 / 7336\n",
      "6598 / 7336\n",
      "7331 / 7336\n"
     ]
    }
   ],
   "source": [
    "train_features, train_labels = get_multichannel_features(train_paths, params)\n",
    "test_features,  test_labels  = get_multichannel_features(test_paths, params)"
   ]
  },
  {
   "cell_type": "code",
   "execution_count": 36,
   "id": "b1703b1d",
   "metadata": {},
   "outputs": [
    {
     "data": {
      "image/png": "[encoded data removed]",
      "text/plain": [
       "<Figure size 1296x360 with 2 Axes>"
      ]
     },
     "metadata": {},
     "output_type": "display_data"
    }
   ],
   "source": [
    "f, axes = plt.subplots(1, 2, figsize = (18,5))\n",
    "sns.set_style('darkgrid')\n",
    "sns.countplot(x = train_labels, ax=axes[0])\n",
    "lb = axes[0].get_xlabel()\n",
    "axes[0].set_xlabel(lb, fontsize=15)\n",
    "axes[0].set_title(\"Train\", size = 14)\n",
    "\n",
    "sns.set_style('darkgrid')\n",
    "sns.countplot(x = test_labels, ax=axes[1])\n",
    "lbt = axes[1].get_xlabel()\n",
    "axes[1].set_xlabel(lbt, fontsize=15)\n",
    "axes[1].set_title(\"Test\", size = 14)\n",
    "plt.suptitle(test_set.capitalize())\n",
    "\n",
    "for ax in axes:\n",
    "    for p in ax.patches:\n",
    "        #ax.annotate('{}'.format(p.get_height()), \n",
    "        #            ((p.get_x() + p.get_width() / 2., p.get_height()), ha = 'center', va = 'center',))\n",
    "        ax.annotate(format(p.get_height(), '.1f'), \n",
    "                   (p.get_x() + p.get_width() / 2., p.get_height()), \n",
    "                   ha = 'center')"
   ]
  },
  {
   "cell_type": "code",
   "execution_count": 37,
   "id": "1c810c1e",
   "metadata": {},
   "outputs": [],
   "source": [
    "train_labels_bin = [classes.index(lab) for lab in train_labels]\n",
    "test_labels_bin  = [classes.index(lab) for lab in test_labels]"
   ]
  },
  {
   "cell_type": "code",
   "execution_count": 38,
   "id": "fd90c2c7",
   "metadata": {},
   "outputs": [
    {
     "data": {
      "text/plain": [
       "29313"
      ]
     },
     "execution_count": 38,
     "metadata": {},
     "output_type": "execute_result"
    }
   ],
   "source": [
    "len(train_labels_bin)"
   ]
  },
  {
   "cell_type": "code",
   "execution_count": 39,
   "id": "801b9690",
   "metadata": {},
   "outputs": [
    {
     "data": {
      "text/plain": [
       "(29313, 260, 36, 1)"
      ]
     },
     "execution_count": 39,
     "metadata": {},
     "output_type": "execute_result"
    }
   ],
   "source": [
    "train_features.shape"
   ]
  },
  {
   "cell_type": "code",
   "execution_count": 40,
   "id": "3957b1e6",
   "metadata": {},
   "outputs": [],
   "source": [
    "train_ds   = tf.data.Dataset.from_tensor_slices((train_features, train_labels_bin))\n",
    "test_ds    = tf.data.Dataset.from_tensor_slices((test_features, test_labels_bin))\n",
    "batch_size = 128\n",
    "train_ds   = train_ds.batch(batch_size)\n",
    "test_ds    = test_ds.batch(batch_size)"
   ]
  },
  {
   "cell_type": "code",
   "execution_count": 41,
   "id": "baf7c39f",
   "metadata": {},
   "outputs": [],
   "source": [
    "input_shape = train_features.shape[1:]"
   ]
  },
  {
   "cell_type": "code",
   "execution_count": 105,
   "id": "553cd37e",
   "metadata": {},
   "outputs": [
    {
     "name": "stdout",
     "output_type": "stream",
     "text": [
      "Model: \"sequential_2\"\n",
      "_________________________________________________________________\n",
      "Layer (type)                 Output Shape              Param #   \n",
      "=================================================================\n",
      "conv2d_4 (Conv2D)            (None, 258, 34, 16)       160       \n",
      "_________________________________________________________________\n",
      "max_pooling2d_4 (MaxPooling2 (None, 129, 17, 16)       0         \n",
      "_________________________________________________________________\n",
      "conv2d_5 (Conv2D)            (None, 127, 15, 16)       2320      \n",
      "_________________________________________________________________\n",
      "max_pooling2d_5 (MaxPooling2 (None, 63, 7, 16)         0         \n",
      "_________________________________________________________________\n",
      "flatten_2 (Flatten)          (None, 7056)              0         \n",
      "_________________________________________________________________\n",
      "dropout_4 (Dropout)          (None, 7056)              0         \n",
      "_________________________________________________________________\n",
      "dense_4 (Dense)              (None, 64)                451648    \n",
      "_________________________________________________________________\n",
      "dropout_5 (Dropout)          (None, 64)                0         \n",
      "_________________________________________________________________\n",
      "dense_5 (Dense)              (None, 2)                 130       \n",
      "=================================================================\n",
      "Total params: 454,258\n",
      "Trainable params: 454,258\n",
      "Non-trainable params: 0\n",
      "_________________________________________________________________\n"
     ]
    }
   ],
   "source": [
    "small_cnn = models.Sequential([\n",
    "        layers.InputLayer(input_shape=input_shape),\n",
    "        layers.Conv2D(16, 3, activation='relu'),\n",
    "        layers.MaxPooling2D(),\n",
    "        layers.Conv2D(16, 3, activation='relu'),\n",
    "        layers.MaxPooling2D(),\n",
    "        layers.Flatten(),\n",
    "        layers.Dropout(0.5),\n",
    "        layers.Dense(64, activation='relu', kernel_regularizer=regularizers.l2(0.001)),\n",
    "        layers.Dropout(0.5),\n",
    "        layers.Dense(2, activation = 'softmax'),\n",
    "    ])\n",
    "small_cnn.summary()"
   ]
  },
  {
   "cell_type": "code",
   "execution_count": 106,
   "id": "b3124c25",
   "metadata": {},
   "outputs": [],
   "source": [
    "small_cnn.compile(\n",
    "    optimizer = tf.keras.optimizers.Adam(learning_rate=0.0001),\n",
    "    loss      = tf.keras.losses.SparseCategoricalCrossentropy(),#from_logits=True),\n",
    "    metrics   = 'accuracy',#tf.keras.metrics.SparseCategoricalAccuracy(),\n",
    ")"
   ]
  },
  {
   "cell_type": "code",
   "execution_count": 107,
   "id": "d910bdd8",
   "metadata": {},
   "outputs": [
    {
     "name": "stdout",
     "output_type": "stream",
     "text": [
      "Epoch 1/25\n",
      "230/230 [==============================] - 47s 203ms/step - loss: 0.6850 - accuracy: 0.6646 - val_loss: 0.6125 - val_accuracy: 0.7206\n",
      "Epoch 2/25\n",
      "230/230 [==============================] - 66s 286ms/step - loss: 0.5939 - accuracy: 0.7334 - val_loss: 0.5593 - val_accuracy: 0.7474\n",
      "Epoch 3/25\n",
      "230/230 [==============================] - 59s 258ms/step - loss: 0.5522 - accuracy: 0.7557 - val_loss: 0.5186 - val_accuracy: 0.7772\n",
      "Epoch 4/25\n",
      "230/230 [==============================] - 65s 282ms/step - loss: 0.5161 - accuracy: 0.7783 - val_loss: 0.4863 - val_accuracy: 0.7974\n",
      "Epoch 5/25\n",
      "230/230 [==============================] - 65s 282ms/step - loss: 0.4880 - accuracy: 0.7998 - val_loss: 0.4591 - val_accuracy: 0.8174\n",
      "Epoch 6/25\n",
      "230/230 [==============================] - 68s 295ms/step - loss: 0.4637 - accuracy: 0.8161 - val_loss: 0.4392 - val_accuracy: 0.8288\n",
      "Epoch 7/25\n",
      "230/230 [==============================] - 59s 259ms/step - loss: 0.4433 - accuracy: 0.8251 - val_loss: 0.4222 - val_accuracy: 0.8404\n",
      "Epoch 8/25\n",
      "230/230 [==============================] - 60s 261ms/step - loss: 0.4314 - accuracy: 0.8322 - val_loss: 0.4116 - val_accuracy: 0.8457\n",
      "Epoch 9/25\n",
      "230/230 [==============================] - 61s 264ms/step - loss: 0.4189 - accuracy: 0.8395 - val_loss: 0.3995 - val_accuracy: 0.8475\n",
      "Epoch 10/25\n",
      "230/230 [==============================] - 64s 278ms/step - loss: 0.4058 - accuracy: 0.8463 - val_loss: 0.3895 - val_accuracy: 0.8532\n",
      "Epoch 11/25\n",
      "230/230 [==============================] - 65s 284ms/step - loss: 0.3973 - accuracy: 0.8490 - val_loss: 0.3817 - val_accuracy: 0.8547\n",
      "Epoch 12/25\n",
      "230/230 [==============================] - 65s 285ms/step - loss: 0.3882 - accuracy: 0.8510 - val_loss: 0.3754 - val_accuracy: 0.8600\n",
      "Epoch 13/25\n",
      "230/230 [==============================] - 64s 279ms/step - loss: 0.3815 - accuracy: 0.8577 - val_loss: 0.3695 - val_accuracy: 0.8624\n",
      "Epoch 14/25\n",
      "230/230 [==============================] - 60s 261ms/step - loss: 0.3753 - accuracy: 0.8593 - val_loss: 0.3643 - val_accuracy: 0.8626\n",
      "Epoch 15/25\n",
      "230/230 [==============================] - 68s 294ms/step - loss: 0.3712 - accuracy: 0.8604 - val_loss: 0.3594 - val_accuracy: 0.8655\n",
      "Epoch 16/25\n",
      "230/230 [==============================] - 66s 288ms/step - loss: 0.3639 - accuracy: 0.8637 - val_loss: 0.3544 - val_accuracy: 0.8667\n",
      "Epoch 17/25\n",
      "230/230 [==============================] - 68s 297ms/step - loss: 0.3580 - accuracy: 0.8675 - val_loss: 0.3491 - val_accuracy: 0.8696\n",
      "Epoch 18/25\n",
      "230/230 [==============================] - 64s 281ms/step - loss: 0.3542 - accuracy: 0.8677 - val_loss: 0.3447 - val_accuracy: 0.8699\n",
      "Epoch 19/25\n",
      "230/230 [==============================] - 63s 274ms/step - loss: 0.3488 - accuracy: 0.8693 - val_loss: 0.3406 - val_accuracy: 0.8732\n",
      "Epoch 20/25\n",
      "230/230 [==============================] - 64s 278ms/step - loss: 0.3443 - accuracy: 0.8720 - val_loss: 0.3377 - val_accuracy: 0.8727\n",
      "Epoch 21/25\n",
      "230/230 [==============================] - 62s 269ms/step - loss: 0.3411 - accuracy: 0.8739 - val_loss: 0.3354 - val_accuracy: 0.8730\n",
      "Epoch 22/25\n",
      "230/230 [==============================] - 63s 274ms/step - loss: 0.3377 - accuracy: 0.8742 - val_loss: 0.3297 - val_accuracy: 0.8779\n",
      "Epoch 23/25\n",
      "230/230 [==============================] - 62s 271ms/step - loss: 0.3320 - accuracy: 0.8778 - val_loss: 0.3272 - val_accuracy: 0.8788\n",
      "Epoch 24/25\n",
      "230/230 [==============================] - 63s 275ms/step - loss: 0.3308 - accuracy: 0.8767 - val_loss: 0.3237 - val_accuracy: 0.8811\n",
      "Epoch 25/25\n",
      "230/230 [==============================] - 61s 265ms/step - loss: 0.3264 - accuracy: 0.8788 - val_loss: 0.3225 - val_accuracy: 0.8816\n"
     ]
    }
   ],
   "source": [
    "EPOCHS  = 25\n",
    "history = small_cnn.fit(train_ds, \n",
    "    validation_data = test_ds,  \n",
    "    epochs          = EPOCHS,\n",
    "    callbacks       = tf.keras.callbacks.EarlyStopping(verbose=1, patience=2)\n",
    ")"
   ]
  },
  {
   "cell_type": "code",
   "execution_count": 108,
   "id": "1fac6d8e",
   "metadata": {},
   "outputs": [],
   "source": [
    "metrics = history.history"
   ]
  },
  {
   "cell_type": "code",
   "execution_count": 109,
   "id": "4cd80199",
   "metadata": {},
   "outputs": [
    {
     "data": {
      "image/png": "[encoded data removed]",
      "text/plain": [
       "<Figure size 432x288 with 1 Axes>"
      ]
     },
     "metadata": {},
     "output_type": "display_data"
    },
    {
     "data": {
      "image/png": "[encoded data removed]",
      "text/plain": [
       "<Figure size 432x288 with 1 Axes>"
      ]
     },
     "metadata": {},
     "output_type": "display_data"
    }
   ],
   "source": [
    "plt.plot(history.epoch, metrics['loss'], metrics['val_loss'])\n",
    "plt.legend(['loss', 'val_loss'])\n",
    "plt.show()\n",
    "\n",
    "plt.plot(history.epoch, metrics['accuracy'], metrics['val_accuracy'])\n",
    "plt.legend(['accuracy', 'val_accuracy'])\n",
    "plt.show()"
   ]
  },
  {
   "cell_type": "code",
   "execution_count": 110,
   "id": "d84a1826",
   "metadata": {},
   "outputs": [],
   "source": [
    "from datetime import datetime"
   ]
  },
  {
   "cell_type": "code",
   "execution_count": 111,
   "id": "a1b4f780",
   "metadata": {},
   "outputs": [],
   "source": [
    "model_name = datetime.now().strftime(\"%Y%m%d-%H%M%S\").replace('-', '_')+'_'+test_set+'_shallow_net.h5'"
   ]
  },
  {
   "cell_type": "code",
   "execution_count": 112,
   "id": "1282fdd6",
   "metadata": {},
   "outputs": [],
   "source": [
    "small_cnn.save(model_name)"
   ]
  },
  {
   "cell_type": "code",
   "execution_count": 113,
   "id": "75f88971",
   "metadata": {},
   "outputs": [
    {
     "name": "stdout",
     "output_type": "stream",
     "text": [
      "58/58 [==============================] - 5s 78ms/step - loss: 0.3225 - accuracy: 0.8816\n"
     ]
    },
    {
     "data": {
      "text/plain": [
       "[0.3224652409553528, 0.8816220760345459]"
      ]
     },
     "execution_count": 113,
     "metadata": {},
     "output_type": "execute_result"
    }
   ],
   "source": [
    "small_cnn.evaluate(test_ds)"
   ]
  },
  {
   "cell_type": "code",
   "execution_count": 114,
   "id": "49d11b77",
   "metadata": {},
   "outputs": [],
   "source": [
    "#need to chop off top of cnn to work with different number of input channels"
   ]
  },
  {
   "cell_type": "code",
   "execution_count": 115,
   "id": "4147545f",
   "metadata": {},
   "outputs": [
    {
     "name": "stdout",
     "output_type": "stream",
     "text": [
      "1 / 29344\n",
      "2935 / 29344\n",
      "5869 / 29344\n",
      "8803 / 29344\n",
      "11737 / 29344\n",
      "14671 / 29344\n",
      "17605 / 29344\n",
      "20539 / 29344\n",
      "23473 / 29344\n",
      "26407 / 29344\n",
      "29341 / 29344\n",
      "1 / 7336\n",
      "734 / 7336\n",
      "1467 / 7336\n",
      "2200 / 7336\n",
      "2933 / 7336\n",
      "3666 / 7336\n",
      "4399 / 7336\n",
      "5132 / 7336\n",
      "5865 / 7336\n",
      "6598 / 7336\n",
      "7331 / 7336\n"
     ]
    }
   ],
   "source": [
    "train_features_mult, train_labels_mult = get_multichannel_features(train_paths, params, choices=['AbsRe', 'AbsIm', 'Mod'])\n",
    "test_features_mult,  test_labels_mult  = get_multichannel_features(test_paths,  params, choices=['AbsRe', 'AbsIm', 'Mod'])"
   ]
  },
  {
   "cell_type": "code",
   "execution_count": 116,
   "id": "cb4a5527",
   "metadata": {},
   "outputs": [],
   "source": [
    "train_labels_mult_bin = [classes.index(lab) for lab in train_labels_mult]\n",
    "test_labels_mult_bin  = [classes.index(lab) for lab in test_labels_mult]"
   ]
  },
  {
   "cell_type": "code",
   "execution_count": 117,
   "id": "2d014a15",
   "metadata": {},
   "outputs": [],
   "source": [
    "train_ds_mult   = tf.data.Dataset.from_tensor_slices((train_features_mult, train_labels_mult_bin))\n",
    "test_ds_mult    = tf.data.Dataset.from_tensor_slices((test_features_mult, test_labels_mult_bin))\n",
    "batch_size      = 128\n",
    "train_ds_mult   = train_ds_mult.batch(batch_size)\n",
    "test_ds_mult    = test_ds_mult.batch(batch_size)"
   ]
  },
  {
   "cell_type": "code",
   "execution_count": 118,
   "id": "58cd10e8",
   "metadata": {},
   "outputs": [],
   "source": [
    "small_cnn_config = small_cnn.get_config()\n",
    "tf_shape = train_features_mult.shape[1:]\n",
    "small_cnn_config[\"layers\"][0][\"config\"][\"batch_input_shape\"] = (None, tf_shape[0], tf_shape[1], tf_shape[2])"
   ]
  },
  {
   "cell_type": "code",
   "execution_count": 123,
   "id": "35c7f642",
   "metadata": {},
   "outputs": [],
   "source": [
    "small_cnn_mult = tf.keras.Sequential.from_config(small_cnn_config)"
   ]
  },
  {
   "cell_type": "code",
   "execution_count": 124,
   "id": "00fc3bcd",
   "metadata": {},
   "outputs": [
    {
     "name": "stdout",
     "output_type": "stream",
     "text": [
      "Model: \"sequential_2\"\n",
      "_________________________________________________________________\n",
      "Layer (type)                 Output Shape              Param #   \n",
      "=================================================================\n",
      "conv2d_4 (Conv2D)            (None, 258, 34, 16)       448       \n",
      "_________________________________________________________________\n",
      "max_pooling2d_4 (MaxPooling2 (None, 129, 17, 16)       0         \n",
      "_________________________________________________________________\n",
      "conv2d_5 (Conv2D)            (None, 127, 15, 16)       2320      \n",
      "_________________________________________________________________\n",
      "max_pooling2d_5 (MaxPooling2 (None, 63, 7, 16)         0         \n",
      "_________________________________________________________________\n",
      "flatten_2 (Flatten)          (None, 7056)              0         \n",
      "_________________________________________________________________\n",
      "dropout_4 (Dropout)          (None, 7056)              0         \n",
      "_________________________________________________________________\n",
      "dense_4 (Dense)              (None, 64)                451648    \n",
      "_________________________________________________________________\n",
      "dropout_5 (Dropout)          (None, 64)                0         \n",
      "_________________________________________________________________\n",
      "dense_5 (Dense)              (None, 2)                 130       \n",
      "=================================================================\n",
      "Total params: 454,546\n",
      "Trainable params: 454,546\n",
      "Non-trainable params: 0\n",
      "_________________________________________________________________\n"
     ]
    }
   ],
   "source": [
    "small_cnn_mult.summary()"
   ]
  },
  {
   "cell_type": "code",
   "execution_count": 149,
   "id": "e0b3ebc4",
   "metadata": {},
   "outputs": [],
   "source": [
    "#need to copy the weights from other model\n",
    "#from https://towardsdatascience.com/implementing-transfer-learning-from-rgb-to-multi-channel-imagery-f87924679166\n",
    "# Expand weights dimension to match new input channels\n",
    "def multify_weights(kernel, out_channels):\n",
    "    mean_1d = np.mean(kernel, axis=-2).reshape(kernel[:,:,-1:,:].shape)\n",
    "    tiled   = np.tile(mean_1d, (out_channels, 1))\n",
    "    return(tiled)\n",
    "\n",
    "\n",
    "# Loop through layers of both original model \n",
    "# and custom model and copy over weights \n",
    "# layer_modify refers to first convolutional layer\n",
    "def copy_weights_tl(model_orig, custom_model, layer_modify):\n",
    "    layer_to_modify = [layer_modify]\n",
    "\n",
    "    conf = custom_model.get_config()\n",
    "    layer_names   = [conf['layers'][x]['config']['name'] for x in range(len(conf['layers']))]\n",
    "    input_channel = custom_model.get_config()[\"layers\"][0][\"config\"][\"batch_input_shape\"][-1]\n",
    "    old_input_channel = model_orig.get_config()[\"layers\"][0][\"config\"][\"batch_input_shape\"][-1]\n",
    "\n",
    "    for layer in model_orig.layers:\n",
    "        if layer.name in layer_names:\n",
    "            if layer.get_weights() != []:\n",
    "                target_layer = custom_model.get_layer(layer.name)\n",
    "\n",
    "                if layer.name in layer_to_modify:    \n",
    "                    kernels = layer.get_weights()[0]\n",
    "                    biases  = layer.get_weights()[1]\n",
    "            \n",
    "                    kernels_extra_channel = np.concatenate((kernels,\n",
    "                                                            multify_weights(kernels, input_channel-old_input_channel)),\n",
    "                                                            axis=-2)\n",
    "                    print('kernels_extra_channel', kernels_extra_channel.shape)                                \n",
    "                    target_layer.set_weights([kernels_extra_channel, biases])\n",
    "                    target_layer.trainable = False\n",
    "\n",
    "                else:\n",
    "                    target_layer.set_weights(layer.get_weights())\n",
    "                    target_layer.trainable = False"
   ]
  },
  {
   "cell_type": "code",
   "execution_count": 150,
   "id": "9f657392",
   "metadata": {},
   "outputs": [
    {
     "name": "stdout",
     "output_type": "stream",
     "text": [
      "kernels_extra_channel (3, 3, 3, 16)\n"
     ]
    }
   ],
   "source": [
    "copy_weights_tl(small_cnn, small_cnn_mult, small_cnn_config[\"layers\"][1]['config']['name'])"
   ]
  },
  {
   "cell_type": "code",
   "execution_count": 151,
   "id": "2c599461",
   "metadata": {},
   "outputs": [],
   "source": [
    "small_cnn_mult.compile(\n",
    "    optimizer = tf.keras.optimizers.Adam(learning_rate=0.0001),\n",
    "    loss      = tf.keras.losses.SparseCategoricalCrossentropy(),#from_logits=True),\n",
    "    metrics   = 'accuracy',#tf.keras.metrics.SparseCategoricalAccuracy(),\n",
    ")"
   ]
  },
  {
   "cell_type": "code",
   "execution_count": 152,
   "id": "cbed0bfe",
   "metadata": {},
   "outputs": [
    {
     "name": "stdout",
     "output_type": "stream",
     "text": [
      "58/58 [==============================] - 7s 85ms/step - loss: 0.4278 - accuracy: 0.8685\n"
     ]
    },
    {
     "data": {
      "text/plain": [
       "[0.4277789890766144, 0.8685144782066345]"
      ]
     },
     "execution_count": 152,
     "metadata": {},
     "output_type": "execute_result"
    }
   ],
   "source": [
    "small_cnn_mult.evaluate(test_ds_mult)"
   ]
  },
  {
   "cell_type": "code",
   "execution_count": null,
   "id": "9a202c86",
   "metadata": {},
   "outputs": [
    {
     "name": "stdout",
     "output_type": "stream",
     "text": [
      "Epoch 1/5\n",
      "230/230 [==============================] - 24s 103ms/step - loss: 0.4215 - accuracy: 0.8727 - val_loss: 0.4278 - val_accuracy: 0.8685\n",
      "Epoch 2/5\n",
      "230/230 [==============================] - 25s 110ms/step - loss: 0.4215 - accuracy: 0.8706 - val_loss: 0.4278 - val_accuracy: 0.8685\n"
     ]
    }
   ],
   "source": [
    "EPOCHS  = 5\n",
    "history = small_cnn_mult.fit(train_ds_mult, \n",
    "    validation_data = test_ds_mult,  \n",
    "    epochs          = EPOCHS,\n",
    "    callbacks       = tf.keras.callbacks.EarlyStopping(verbose=1, patience=2)\n",
    ")"
   ]
  }
 ],
 "metadata": {
  "kernelspec": {
   "display_name": "Python 3",
   "language": "python",
   "name": "python3"
  },
  "language_info": {
   "codemirror_mode": {
    "name": "ipython",
    "version": 3
   },
   "file_extension": ".py",
   "mimetype": "text/x-python",
   "name": "python",
   "nbconvert_exporter": "python",
   "pygments_lexer": "ipython3",
   "version": "3.8.8"
  }
 },
 "nbformat": 4,
 "nbformat_minor": 5
}
